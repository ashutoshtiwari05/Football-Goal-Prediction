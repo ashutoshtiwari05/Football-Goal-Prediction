{
 "cells": [
  {
   "cell_type": "code",
   "execution_count": 1,
   "metadata": {},
   "outputs": [],
   "source": [
    "# Supress Warnings\n",
    "import warnings\n",
    "warnings.filterwarnings('ignore')"
   ]
  },
  {
   "cell_type": "code",
   "execution_count": 2,
   "metadata": {},
   "outputs": [],
   "source": [
    "import numpy as np\n",
    "import pandas as pd\n",
    "import matplotlib.pyplot as plt\n",
    "import seaborn as sns\n",
    "from numpy import loadtxt\n",
    "import xgboost\n",
    "from sklearn.model_selection import StratifiedKFold\n",
    "from sklearn.model_selection import cross_val_score"
   ]
  },
  {
   "cell_type": "code",
   "execution_count": 3,
   "metadata": {},
   "outputs": [],
   "source": [
    "data = pd.read_csv(\"data.csv\",  encoding =\"utf-8\")"
   ]
  },
  {
   "cell_type": "code",
   "execution_count": 4,
   "metadata": {},
   "outputs": [
    {
     "data": {
      "text/html": [
       "<div>\n",
       "<style scoped>\n",
       "    .dataframe tbody tr th:only-of-type {\n",
       "        vertical-align: middle;\n",
       "    }\n",
       "\n",
       "    .dataframe tbody tr th {\n",
       "        vertical-align: top;\n",
       "    }\n",
       "\n",
       "    .dataframe thead th {\n",
       "        text-align: right;\n",
       "    }\n",
       "</style>\n",
       "<table border=\"1\" class=\"dataframe\">\n",
       "  <thead>\n",
       "    <tr style=\"text-align: right;\">\n",
       "      <th></th>\n",
       "      <th>Unnamed: 0</th>\n",
       "      <th>match_event_id</th>\n",
       "      <th>location_x</th>\n",
       "      <th>location_y</th>\n",
       "      <th>remaining_min</th>\n",
       "      <th>power_of_shot</th>\n",
       "      <th>knockout_match</th>\n",
       "      <th>remaining_sec</th>\n",
       "      <th>distance_of_shot</th>\n",
       "      <th>is_goal</th>\n",
       "      <th>shot_id_number</th>\n",
       "      <th>match_id</th>\n",
       "      <th>team_id</th>\n",
       "      <th>remaining_min.1</th>\n",
       "      <th>power_of_shot.1</th>\n",
       "      <th>knockout_match.1</th>\n",
       "      <th>remaining_sec.1</th>\n",
       "      <th>distance_of_shot.1</th>\n",
       "    </tr>\n",
       "  </thead>\n",
       "  <tbody>\n",
       "    <tr>\n",
       "      <th>count</th>\n",
       "      <td>30697.000000</td>\n",
       "      <td>29134.000000</td>\n",
       "      <td>29236.000000</td>\n",
       "      <td>29157.000000</td>\n",
       "      <td>29135.000000</td>\n",
       "      <td>29211.000000</td>\n",
       "      <td>29180.000000</td>\n",
       "      <td>29103.000000</td>\n",
       "      <td>29130.000000</td>\n",
       "      <td>24429.000000</td>\n",
       "      <td>29134.000000</td>\n",
       "      <td>3.069700e+04</td>\n",
       "      <td>3.069700e+04</td>\n",
       "      <td>29162.000000</td>\n",
       "      <td>29158.000000</td>\n",
       "      <td>29204.000000</td>\n",
       "      <td>29158.000000</td>\n",
       "      <td>29129.000000</td>\n",
       "    </tr>\n",
       "    <tr>\n",
       "      <th>mean</th>\n",
       "      <td>15348.000000</td>\n",
       "      <td>249.576028</td>\n",
       "      <td>7.383876</td>\n",
       "      <td>91.126933</td>\n",
       "      <td>4.883233</td>\n",
       "      <td>2.519359</td>\n",
       "      <td>0.145956</td>\n",
       "      <td>28.329382</td>\n",
       "      <td>33.448884</td>\n",
       "      <td>0.445331</td>\n",
       "      <td>15368.581039</td>\n",
       "      <td>2.476407e+07</td>\n",
       "      <td>1.610613e+09</td>\n",
       "      <td>18.204615</td>\n",
       "      <td>15.994109</td>\n",
       "      <td>16.599402</td>\n",
       "      <td>39.027303</td>\n",
       "      <td>38.801852</td>\n",
       "    </tr>\n",
       "    <tr>\n",
       "      <th>std</th>\n",
       "      <td>8861.604943</td>\n",
       "      <td>150.186019</td>\n",
       "      <td>110.263049</td>\n",
       "      <td>87.676395</td>\n",
       "      <td>3.452533</td>\n",
       "      <td>1.153976</td>\n",
       "      <td>0.353068</td>\n",
       "      <td>17.470663</td>\n",
       "      <td>9.369656</td>\n",
       "      <td>0.497013</td>\n",
       "      <td>8866.520772</td>\n",
       "      <td>7.755175e+06</td>\n",
       "      <td>0.000000e+00</td>\n",
       "      <td>29.416973</td>\n",
       "      <td>29.676815</td>\n",
       "      <td>35.172016</td>\n",
       "      <td>29.835284</td>\n",
       "      <td>18.787711</td>\n",
       "    </tr>\n",
       "    <tr>\n",
       "      <th>min</th>\n",
       "      <td>0.000000</td>\n",
       "      <td>2.000000</td>\n",
       "      <td>-250.000000</td>\n",
       "      <td>-44.000000</td>\n",
       "      <td>0.000000</td>\n",
       "      <td>1.000000</td>\n",
       "      <td>0.000000</td>\n",
       "      <td>0.000000</td>\n",
       "      <td>20.000000</td>\n",
       "      <td>0.000000</td>\n",
       "      <td>1.000000</td>\n",
       "      <td>2.000001e+07</td>\n",
       "      <td>1.610613e+09</td>\n",
       "      <td>0.000000</td>\n",
       "      <td>1.000000</td>\n",
       "      <td>0.000000</td>\n",
       "      <td>0.000000</td>\n",
       "      <td>9.400000</td>\n",
       "    </tr>\n",
       "    <tr>\n",
       "      <th>25%</th>\n",
       "      <td>7674.000000</td>\n",
       "      <td>111.000000</td>\n",
       "      <td>-68.000000</td>\n",
       "      <td>4.000000</td>\n",
       "      <td>2.000000</td>\n",
       "      <td>1.000000</td>\n",
       "      <td>0.000000</td>\n",
       "      <td>13.000000</td>\n",
       "      <td>25.000000</td>\n",
       "      <td>0.000000</td>\n",
       "      <td>7693.250000</td>\n",
       "      <td>2.050008e+07</td>\n",
       "      <td>1.610613e+09</td>\n",
       "      <td>3.000000</td>\n",
       "      <td>2.000000</td>\n",
       "      <td>0.000000</td>\n",
       "      <td>17.000000</td>\n",
       "      <td>26.000000</td>\n",
       "    </tr>\n",
       "    <tr>\n",
       "      <th>50%</th>\n",
       "      <td>15348.000000</td>\n",
       "      <td>254.000000</td>\n",
       "      <td>0.000000</td>\n",
       "      <td>74.000000</td>\n",
       "      <td>5.000000</td>\n",
       "      <td>3.000000</td>\n",
       "      <td>0.000000</td>\n",
       "      <td>28.000000</td>\n",
       "      <td>35.000000</td>\n",
       "      <td>0.000000</td>\n",
       "      <td>15378.500000</td>\n",
       "      <td>2.090035e+07</td>\n",
       "      <td>1.610613e+09</td>\n",
       "      <td>6.000000</td>\n",
       "      <td>3.000000</td>\n",
       "      <td>0.000000</td>\n",
       "      <td>35.000000</td>\n",
       "      <td>36.000000</td>\n",
       "    </tr>\n",
       "    <tr>\n",
       "      <th>75%</th>\n",
       "      <td>23022.000000</td>\n",
       "      <td>369.000000</td>\n",
       "      <td>95.000000</td>\n",
       "      <td>160.000000</td>\n",
       "      <td>8.000000</td>\n",
       "      <td>3.000000</td>\n",
       "      <td>0.000000</td>\n",
       "      <td>43.000000</td>\n",
       "      <td>41.000000</td>\n",
       "      <td>1.000000</td>\n",
       "      <td>23055.750000</td>\n",
       "      <td>2.960047e+07</td>\n",
       "      <td>1.610613e+09</td>\n",
       "      <td>11.000000</td>\n",
       "      <td>4.000000</td>\n",
       "      <td>1.000000</td>\n",
       "      <td>52.000000</td>\n",
       "      <td>44.000000</td>\n",
       "    </tr>\n",
       "    <tr>\n",
       "      <th>max</th>\n",
       "      <td>30696.000000</td>\n",
       "      <td>659.000000</td>\n",
       "      <td>248.000000</td>\n",
       "      <td>791.000000</td>\n",
       "      <td>11.000000</td>\n",
       "      <td>7.000000</td>\n",
       "      <td>1.000000</td>\n",
       "      <td>59.000000</td>\n",
       "      <td>99.000000</td>\n",
       "      <td>1.000000</td>\n",
       "      <td>30697.000000</td>\n",
       "      <td>4.990009e+07</td>\n",
       "      <td>1.610613e+09</td>\n",
       "      <td>128.761600</td>\n",
       "      <td>118.360000</td>\n",
       "      <td>141.352320</td>\n",
       "      <td>144.785600</td>\n",
       "      <td>115.728000</td>\n",
       "    </tr>\n",
       "  </tbody>\n",
       "</table>\n",
       "</div>"
      ],
      "text/plain": [
       "         Unnamed: 0  match_event_id    location_x    location_y  \\\n",
       "count  30697.000000    29134.000000  29236.000000  29157.000000   \n",
       "mean   15348.000000      249.576028      7.383876     91.126933   \n",
       "std     8861.604943      150.186019    110.263049     87.676395   \n",
       "min        0.000000        2.000000   -250.000000    -44.000000   \n",
       "25%     7674.000000      111.000000    -68.000000      4.000000   \n",
       "50%    15348.000000      254.000000      0.000000     74.000000   \n",
       "75%    23022.000000      369.000000     95.000000    160.000000   \n",
       "max    30696.000000      659.000000    248.000000    791.000000   \n",
       "\n",
       "       remaining_min  power_of_shot  knockout_match  remaining_sec  \\\n",
       "count   29135.000000   29211.000000    29180.000000   29103.000000   \n",
       "mean        4.883233       2.519359        0.145956      28.329382   \n",
       "std         3.452533       1.153976        0.353068      17.470663   \n",
       "min         0.000000       1.000000        0.000000       0.000000   \n",
       "25%         2.000000       1.000000        0.000000      13.000000   \n",
       "50%         5.000000       3.000000        0.000000      28.000000   \n",
       "75%         8.000000       3.000000        0.000000      43.000000   \n",
       "max        11.000000       7.000000        1.000000      59.000000   \n",
       "\n",
       "       distance_of_shot       is_goal  shot_id_number      match_id  \\\n",
       "count      29130.000000  24429.000000    29134.000000  3.069700e+04   \n",
       "mean          33.448884      0.445331    15368.581039  2.476407e+07   \n",
       "std            9.369656      0.497013     8866.520772  7.755175e+06   \n",
       "min           20.000000      0.000000        1.000000  2.000001e+07   \n",
       "25%           25.000000      0.000000     7693.250000  2.050008e+07   \n",
       "50%           35.000000      0.000000    15378.500000  2.090035e+07   \n",
       "75%           41.000000      1.000000    23055.750000  2.960047e+07   \n",
       "max           99.000000      1.000000    30697.000000  4.990009e+07   \n",
       "\n",
       "            team_id  remaining_min.1  power_of_shot.1  knockout_match.1  \\\n",
       "count  3.069700e+04     29162.000000     29158.000000      29204.000000   \n",
       "mean   1.610613e+09        18.204615        15.994109         16.599402   \n",
       "std    0.000000e+00        29.416973        29.676815         35.172016   \n",
       "min    1.610613e+09         0.000000         1.000000          0.000000   \n",
       "25%    1.610613e+09         3.000000         2.000000          0.000000   \n",
       "50%    1.610613e+09         6.000000         3.000000          0.000000   \n",
       "75%    1.610613e+09        11.000000         4.000000          1.000000   \n",
       "max    1.610613e+09       128.761600       118.360000        141.352320   \n",
       "\n",
       "       remaining_sec.1  distance_of_shot.1  \n",
       "count     29158.000000        29129.000000  \n",
       "mean         39.027303           38.801852  \n",
       "std          29.835284           18.787711  \n",
       "min           0.000000            9.400000  \n",
       "25%          17.000000           26.000000  \n",
       "50%          35.000000           36.000000  \n",
       "75%          52.000000           44.000000  \n",
       "max         144.785600          115.728000  "
      ]
     },
     "execution_count": 4,
     "metadata": {},
     "output_type": "execute_result"
    }
   ],
   "source": [
    "data.describe()"
   ]
  },
  {
   "cell_type": "code",
   "execution_count": 5,
   "metadata": {},
   "outputs": [
    {
     "data": {
      "text/plain": [
       "(30697, 27)"
      ]
     },
     "execution_count": 5,
     "metadata": {},
     "output_type": "execute_result"
    }
   ],
   "source": [
    "data = data.loc[:, ~data.columns.str.contains('^Unnamed')]\n",
    "data.shape"
   ]
  },
  {
   "cell_type": "code",
   "execution_count": 6,
   "metadata": {},
   "outputs": [
    {
     "data": {
      "text/html": [
       "<div>\n",
       "<style scoped>\n",
       "    .dataframe tbody tr th:only-of-type {\n",
       "        vertical-align: middle;\n",
       "    }\n",
       "\n",
       "    .dataframe tbody tr th {\n",
       "        vertical-align: top;\n",
       "    }\n",
       "\n",
       "    .dataframe thead th {\n",
       "        text-align: right;\n",
       "    }\n",
       "</style>\n",
       "<table border=\"1\" class=\"dataframe\">\n",
       "  <thead>\n",
       "    <tr style=\"text-align: right;\">\n",
       "      <th></th>\n",
       "      <th>match_event_id</th>\n",
       "      <th>location_x</th>\n",
       "      <th>location_y</th>\n",
       "      <th>remaining_min</th>\n",
       "      <th>power_of_shot</th>\n",
       "      <th>knockout_match</th>\n",
       "      <th>game_season</th>\n",
       "      <th>remaining_sec</th>\n",
       "      <th>distance_of_shot</th>\n",
       "      <th>is_goal</th>\n",
       "      <th>...</th>\n",
       "      <th>lat/lng</th>\n",
       "      <th>type_of_shot</th>\n",
       "      <th>type_of_combined_shot</th>\n",
       "      <th>match_id</th>\n",
       "      <th>team_id</th>\n",
       "      <th>remaining_min.1</th>\n",
       "      <th>power_of_shot.1</th>\n",
       "      <th>knockout_match.1</th>\n",
       "      <th>remaining_sec.1</th>\n",
       "      <th>distance_of_shot.1</th>\n",
       "    </tr>\n",
       "  </thead>\n",
       "  <tbody>\n",
       "    <tr>\n",
       "      <th>0</th>\n",
       "      <td>10.0</td>\n",
       "      <td>167.0</td>\n",
       "      <td>72.0</td>\n",
       "      <td>10.0</td>\n",
       "      <td>1.0</td>\n",
       "      <td>0.0</td>\n",
       "      <td>2000-01</td>\n",
       "      <td>27.0</td>\n",
       "      <td>38.0</td>\n",
       "      <td>NaN</td>\n",
       "      <td>...</td>\n",
       "      <td>45.539131, -122.651648</td>\n",
       "      <td>shot - 30</td>\n",
       "      <td>NaN</td>\n",
       "      <td>20000012</td>\n",
       "      <td>1610612747</td>\n",
       "      <td>10.00</td>\n",
       "      <td>1.0</td>\n",
       "      <td>50.608</td>\n",
       "      <td>54.2000</td>\n",
       "      <td>38.0</td>\n",
       "    </tr>\n",
       "    <tr>\n",
       "      <th>1</th>\n",
       "      <td>12.0</td>\n",
       "      <td>-157.0</td>\n",
       "      <td>0.0</td>\n",
       "      <td>10.0</td>\n",
       "      <td>1.0</td>\n",
       "      <td>0.0</td>\n",
       "      <td>2000-01</td>\n",
       "      <td>22.0</td>\n",
       "      <td>35.0</td>\n",
       "      <td>0.0</td>\n",
       "      <td>...</td>\n",
       "      <td>45.539131, -122.651648</td>\n",
       "      <td>shot - 45</td>\n",
       "      <td>NaN</td>\n",
       "      <td>20000012</td>\n",
       "      <td>1610612747</td>\n",
       "      <td>10.00</td>\n",
       "      <td>1.0</td>\n",
       "      <td>28.800</td>\n",
       "      <td>22.0000</td>\n",
       "      <td>35.0</td>\n",
       "    </tr>\n",
       "    <tr>\n",
       "      <th>2</th>\n",
       "      <td>35.0</td>\n",
       "      <td>-101.0</td>\n",
       "      <td>135.0</td>\n",
       "      <td>7.0</td>\n",
       "      <td>1.0</td>\n",
       "      <td>0.0</td>\n",
       "      <td>2000-01</td>\n",
       "      <td>45.0</td>\n",
       "      <td>36.0</td>\n",
       "      <td>1.0</td>\n",
       "      <td>...</td>\n",
       "      <td>45.539131, -122.651648</td>\n",
       "      <td>shot - 25</td>\n",
       "      <td>NaN</td>\n",
       "      <td>20000012</td>\n",
       "      <td>1610612747</td>\n",
       "      <td>92.64</td>\n",
       "      <td>1.0</td>\n",
       "      <td>0.000</td>\n",
       "      <td>63.7216</td>\n",
       "      <td>54.4</td>\n",
       "    </tr>\n",
       "    <tr>\n",
       "      <th>3</th>\n",
       "      <td>43.0</td>\n",
       "      <td>138.0</td>\n",
       "      <td>175.0</td>\n",
       "      <td>6.0</td>\n",
       "      <td>1.0</td>\n",
       "      <td>0.0</td>\n",
       "      <td>2000-01</td>\n",
       "      <td>52.0</td>\n",
       "      <td>42.0</td>\n",
       "      <td>0.0</td>\n",
       "      <td>...</td>\n",
       "      <td>45.539131, -122.651648</td>\n",
       "      <td>NaN</td>\n",
       "      <td>shot - 3</td>\n",
       "      <td>20000012</td>\n",
       "      <td>1610612747</td>\n",
       "      <td>NaN</td>\n",
       "      <td>1.0</td>\n",
       "      <td>122.608</td>\n",
       "      <td>52.0000</td>\n",
       "      <td>42.0</td>\n",
       "    </tr>\n",
       "    <tr>\n",
       "      <th>4</th>\n",
       "      <td>155.0</td>\n",
       "      <td>0.0</td>\n",
       "      <td>0.0</td>\n",
       "      <td>NaN</td>\n",
       "      <td>2.0</td>\n",
       "      <td>0.0</td>\n",
       "      <td>2000-01</td>\n",
       "      <td>19.0</td>\n",
       "      <td>20.0</td>\n",
       "      <td>1.0</td>\n",
       "      <td>...</td>\n",
       "      <td>45.539131, -122.651648</td>\n",
       "      <td>NaN</td>\n",
       "      <td>shot - 1</td>\n",
       "      <td>20000012</td>\n",
       "      <td>1610612747</td>\n",
       "      <td>42.64</td>\n",
       "      <td>2.0</td>\n",
       "      <td>0.000</td>\n",
       "      <td>19.0000</td>\n",
       "      <td>20.0</td>\n",
       "    </tr>\n",
       "  </tbody>\n",
       "</table>\n",
       "<p>5 rows × 27 columns</p>\n",
       "</div>"
      ],
      "text/plain": [
       "   match_event_id  location_x  location_y  remaining_min  power_of_shot  \\\n",
       "0            10.0       167.0        72.0           10.0            1.0   \n",
       "1            12.0      -157.0         0.0           10.0            1.0   \n",
       "2            35.0      -101.0       135.0            7.0            1.0   \n",
       "3            43.0       138.0       175.0            6.0            1.0   \n",
       "4           155.0         0.0         0.0            NaN            2.0   \n",
       "\n",
       "   knockout_match game_season  remaining_sec  distance_of_shot  is_goal  \\\n",
       "0             0.0     2000-01           27.0              38.0      NaN   \n",
       "1             0.0     2000-01           22.0              35.0      0.0   \n",
       "2             0.0     2000-01           45.0              36.0      1.0   \n",
       "3             0.0     2000-01           52.0              42.0      0.0   \n",
       "4             0.0     2000-01           19.0              20.0      1.0   \n",
       "\n",
       "         ...                         lat/lng type_of_shot  \\\n",
       "0        ...          45.539131, -122.651648    shot - 30   \n",
       "1        ...          45.539131, -122.651648    shot - 45   \n",
       "2        ...          45.539131, -122.651648    shot - 25   \n",
       "3        ...          45.539131, -122.651648          NaN   \n",
       "4        ...          45.539131, -122.651648          NaN   \n",
       "\n",
       "  type_of_combined_shot  match_id     team_id remaining_min.1  \\\n",
       "0                   NaN  20000012  1610612747           10.00   \n",
       "1                   NaN  20000012  1610612747           10.00   \n",
       "2                   NaN  20000012  1610612747           92.64   \n",
       "3              shot - 3  20000012  1610612747             NaN   \n",
       "4              shot - 1  20000012  1610612747           42.64   \n",
       "\n",
       "   power_of_shot.1 knockout_match.1 remaining_sec.1 distance_of_shot.1  \n",
       "0              1.0           50.608         54.2000               38.0  \n",
       "1              1.0           28.800         22.0000               35.0  \n",
       "2              1.0            0.000         63.7216               54.4  \n",
       "3              1.0          122.608         52.0000               42.0  \n",
       "4              2.0            0.000         19.0000               20.0  \n",
       "\n",
       "[5 rows x 27 columns]"
      ]
     },
     "execution_count": 6,
     "metadata": {},
     "output_type": "execute_result"
    }
   ],
   "source": [
    "data.head()"
   ]
  },
  {
   "cell_type": "code",
   "execution_count": 7,
   "metadata": {},
   "outputs": [
    {
     "name": "stdout",
     "output_type": "stream",
     "text": [
      "<class 'pandas.core.frame.DataFrame'>\n",
      "RangeIndex: 30697 entries, 0 to 30696\n",
      "Data columns (total 23 columns):\n",
      "location_x               29236 non-null float64\n",
      "location_y               29157 non-null float64\n",
      "remaining_min            29135 non-null float64\n",
      "power_of_shot            29211 non-null float64\n",
      "knockout_match           29180 non-null float64\n",
      "game_season              24835 non-null object\n",
      "remaining_sec            29103 non-null float64\n",
      "distance_of_shot         29130 non-null float64\n",
      "is_goal                  24429 non-null float64\n",
      "area_of_shot             29195 non-null object\n",
      "shot_basics              29122 non-null object\n",
      "range_of_shot            29133 non-null object\n",
      "date_of_game             29147 non-null object\n",
      "home/away                29200 non-null object\n",
      "shot_id_number           29134 non-null float64\n",
      "lat/lng                  29132 non-null object\n",
      "type_of_shot             15417 non-null object\n",
      "type_of_combined_shot    15280 non-null object\n",
      "remaining_min.1          29162 non-null float64\n",
      "power_of_shot.1          29158 non-null float64\n",
      "knockout_match.1         29204 non-null float64\n",
      "remaining_sec.1          29158 non-null float64\n",
      "distance_of_shot.1       29129 non-null float64\n",
      "dtypes: float64(14), object(9)\n",
      "memory usage: 5.4+ MB\n"
     ]
    }
   ],
   "source": [
    "## Team Name and TeamId have only 1 value, and matchid is unique , with no impact on the predicting algorithm \n",
    "## hence deleting them..\n",
    "data = data.drop(['team_id', 'team_name','match_id','match_event_id'], axis=1)\n",
    "data.info()"
   ]
  },
  {
   "cell_type": "code",
   "execution_count": 8,
   "metadata": {},
   "outputs": [
    {
     "name": "stdout",
     "output_type": "stream",
     "text": [
      "<class 'pandas.core.frame.DataFrame'>\n",
      "RangeIndex: 30697 entries, 0 to 30696\n",
      "Data columns (total 18 columns):\n",
      "location_x               29236 non-null float64\n",
      "location_y               29157 non-null float64\n",
      "remaining_min            29135 non-null float64\n",
      "power_of_shot            29211 non-null float64\n",
      "knockout_match           29180 non-null float64\n",
      "game_season              24835 non-null object\n",
      "remaining_sec            29103 non-null float64\n",
      "distance_of_shot         29130 non-null float64\n",
      "is_goal                  24429 non-null float64\n",
      "area_of_shot             29195 non-null object\n",
      "shot_basics              29122 non-null object\n",
      "range_of_shot            29133 non-null object\n",
      "date_of_game             29147 non-null object\n",
      "home/away                29200 non-null object\n",
      "shot_id_number           29134 non-null float64\n",
      "lat/lng                  29132 non-null object\n",
      "type_of_shot             15417 non-null object\n",
      "type_of_combined_shot    15280 non-null object\n",
      "dtypes: float64(9), object(9)\n",
      "memory usage: 4.2+ MB\n"
     ]
    }
   ],
   "source": [
    "## Dropping duplicate columns with same names.. ##TODO : check this later..\n",
    "data = data.drop(['remaining_min.1','power_of_shot.1','knockout_match.1','remaining_sec.1','distance_of_shot.1'], axis=1)\n",
    "data.info()"
   ]
  },
  {
   "cell_type": "code",
   "execution_count": 9,
   "metadata": {},
   "outputs": [
    {
     "data": {
      "text/plain": [
       "location_x                1461\n",
       "location_y                1540\n",
       "remaining_min             1562\n",
       "power_of_shot             1486\n",
       "knockout_match            1517\n",
       "game_season               5862\n",
       "remaining_sec             1594\n",
       "distance_of_shot          1567\n",
       "is_goal                   6268\n",
       "area_of_shot              1502\n",
       "shot_basics               1575\n",
       "range_of_shot             1564\n",
       "date_of_game              1550\n",
       "home/away                 1497\n",
       "shot_id_number            1563\n",
       "lat/lng                   1565\n",
       "type_of_shot             15280\n",
       "type_of_combined_shot    15417\n",
       "dtype: int64"
      ]
     },
     "execution_count": 9,
     "metadata": {},
     "output_type": "execute_result"
    }
   ],
   "source": [
    "data.isnull().sum()"
   ]
  },
  {
   "cell_type": "code",
   "execution_count": 10,
   "metadata": {},
   "outputs": [
    {
     "data": {
      "text/html": [
       "<div>\n",
       "<style scoped>\n",
       "    .dataframe tbody tr th:only-of-type {\n",
       "        vertical-align: middle;\n",
       "    }\n",
       "\n",
       "    .dataframe tbody tr th {\n",
       "        vertical-align: top;\n",
       "    }\n",
       "\n",
       "    .dataframe thead th {\n",
       "        text-align: right;\n",
       "    }\n",
       "</style>\n",
       "<table border=\"1\" class=\"dataframe\">\n",
       "  <thead>\n",
       "    <tr style=\"text-align: right;\">\n",
       "      <th></th>\n",
       "      <th>Total</th>\n",
       "      <th>Percent</th>\n",
       "    </tr>\n",
       "  </thead>\n",
       "  <tbody>\n",
       "    <tr>\n",
       "      <th>type_of_combined_shot</th>\n",
       "      <td>15417</td>\n",
       "      <td>0.502231</td>\n",
       "    </tr>\n",
       "    <tr>\n",
       "      <th>type_of_shot</th>\n",
       "      <td>15280</td>\n",
       "      <td>0.497769</td>\n",
       "    </tr>\n",
       "    <tr>\n",
       "      <th>is_goal</th>\n",
       "      <td>6268</td>\n",
       "      <td>0.204189</td>\n",
       "    </tr>\n",
       "    <tr>\n",
       "      <th>game_season</th>\n",
       "      <td>5862</td>\n",
       "      <td>0.190963</td>\n",
       "    </tr>\n",
       "    <tr>\n",
       "      <th>remaining_sec</th>\n",
       "      <td>1594</td>\n",
       "      <td>0.051927</td>\n",
       "    </tr>\n",
       "  </tbody>\n",
       "</table>\n",
       "</div>"
      ],
      "text/plain": [
       "                       Total   Percent\n",
       "type_of_combined_shot  15417  0.502231\n",
       "type_of_shot           15280  0.497769\n",
       "is_goal                 6268  0.204189\n",
       "game_season             5862  0.190963\n",
       "remaining_sec           1594  0.051927"
      ]
     },
     "execution_count": 10,
     "metadata": {},
     "output_type": "execute_result"
    },
    {
     "data": {
      "image/png": "[encoded data removed]",
      "text/plain": [
       "<Figure size 1080x432 with 1 Axes>"
      ]
     },
     "metadata": {
      "needs_background": "light"
     },
     "output_type": "display_data"
    }
   ],
   "source": [
    "total = data.isnull().sum().sort_values(ascending=False)\n",
    "percent = (data.isnull().sum()/data.isnull().count()).sort_values(ascending=False)\n",
    "missing_data = pd.concat([total, percent], axis=1, keys=['Total', 'Percent'])\n",
    "f, ax = plt.subplots(figsize=(15, 6))\n",
    "plt.xticks(rotation='90')\n",
    "sns.barplot(x=missing_data.index, y=missing_data['Percent'])\n",
    "plt.xlabel('Features', fontsize=15)\n",
    "plt.ylabel('Percent of missing values', fontsize=15)\n",
    "plt.title('Percent missing data by feature', fontsize=15)\n",
    "missing_data.head()"
   ]
  },
  {
   "cell_type": "code",
   "execution_count": 11,
   "metadata": {},
   "outputs": [
    {
     "data": {
      "text/html": [
       "<div>\n",
       "<style scoped>\n",
       "    .dataframe tbody tr th:only-of-type {\n",
       "        vertical-align: middle;\n",
       "    }\n",
       "\n",
       "    .dataframe tbody tr th {\n",
       "        vertical-align: top;\n",
       "    }\n",
       "\n",
       "    .dataframe thead th {\n",
       "        text-align: right;\n",
       "    }\n",
       "</style>\n",
       "<table border=\"1\" class=\"dataframe\">\n",
       "  <thead>\n",
       "    <tr style=\"text-align: right;\">\n",
       "      <th></th>\n",
       "      <th>type_of_shot</th>\n",
       "      <th>type_of_combined_shot</th>\n",
       "    </tr>\n",
       "  </thead>\n",
       "  <tbody>\n",
       "    <tr>\n",
       "      <th>0</th>\n",
       "      <td>shot - 30</td>\n",
       "      <td>NaN</td>\n",
       "    </tr>\n",
       "    <tr>\n",
       "      <th>1</th>\n",
       "      <td>shot - 45</td>\n",
       "      <td>NaN</td>\n",
       "    </tr>\n",
       "    <tr>\n",
       "      <th>2</th>\n",
       "      <td>shot - 25</td>\n",
       "      <td>NaN</td>\n",
       "    </tr>\n",
       "    <tr>\n",
       "      <th>3</th>\n",
       "      <td>NaN</td>\n",
       "      <td>shot - 3</td>\n",
       "    </tr>\n",
       "    <tr>\n",
       "      <th>4</th>\n",
       "      <td>NaN</td>\n",
       "      <td>shot - 1</td>\n",
       "    </tr>\n",
       "  </tbody>\n",
       "</table>\n",
       "</div>"
      ],
      "text/plain": [
       "  type_of_shot type_of_combined_shot\n",
       "0    shot - 30                   NaN\n",
       "1    shot - 45                   NaN\n",
       "2    shot - 25                   NaN\n",
       "3          NaN              shot - 3\n",
       "4          NaN              shot - 1"
      ]
     },
     "execution_count": 11,
     "metadata": {},
     "output_type": "execute_result"
    }
   ],
   "source": [
    "# There are now 2 columns having approx 50% missing values - \n",
    "\n",
    "# let's have a look at a few entries in the columns\n",
    "data.loc[:, ['type_of_shot', 'type_of_combined_shot']].head()"
   ]
  },
  {
   "cell_type": "code",
   "execution_count": 12,
   "metadata": {},
   "outputs": [],
   "source": [
    "### columns are missing in the manner if 1 is having the value other is missing it.. \n",
    "### hence merging the values and dropping another\n",
    "data.loc[data['type_of_shot'].isnull(),'type_of_shot'] = data['type_of_combined_shot']\n",
    "data = data.drop(['type_of_combined_shot'], axis=1)"
   ]
  },
  {
   "cell_type": "code",
   "execution_count": 13,
   "metadata": {},
   "outputs": [
    {
     "data": {
      "text/plain": [
       "location_x           5.0\n",
       "location_y           5.0\n",
       "remaining_min        5.0\n",
       "power_of_shot        5.0\n",
       "knockout_match       5.0\n",
       "game_season         19.0\n",
       "remaining_sec        5.0\n",
       "distance_of_shot     5.0\n",
       "is_goal             20.0\n",
       "area_of_shot         5.0\n",
       "shot_basics          5.0\n",
       "range_of_shot        5.0\n",
       "date_of_game         5.0\n",
       "home/away            5.0\n",
       "shot_id_number       5.0\n",
       "lat/lng              5.0\n",
       "type_of_shot         0.0\n",
       "dtype: float64"
      ]
     },
     "execution_count": 13,
     "metadata": {},
     "output_type": "execute_result"
    }
   ],
   "source": [
    "round(data.isnull().sum()/len(data.index), 2)*100"
   ]
  },
  {
   "cell_type": "code",
   "execution_count": 14,
   "metadata": {},
   "outputs": [
    {
     "data": {
      "text/plain": [
       "location_x            488\n",
       "location_y            450\n",
       "remaining_min          12\n",
       "power_of_shot           7\n",
       "knockout_match          2\n",
       "game_season            20\n",
       "remaining_sec          60\n",
       "distance_of_shot       73\n",
       "is_goal                 2\n",
       "area_of_shot            6\n",
       "shot_basics             7\n",
       "range_of_shot           5\n",
       "date_of_game         1558\n",
       "home/away              74\n",
       "shot_id_number      29134\n",
       "lat/lng                38\n",
       "type_of_shot           57\n",
       "dtype: int64"
      ]
     },
     "execution_count": 14,
     "metadata": {},
     "output_type": "execute_result"
    }
   ],
   "source": [
    "data.nunique()"
   ]
  },
  {
   "cell_type": "code",
   "execution_count": 15,
   "metadata": {},
   "outputs": [],
   "source": [
    "## deleting columns whose shot id number is empty\n",
    "data['shot_id_number'].replace(' ', np.nan, inplace=True)\n",
    "data= data.dropna(subset=['shot_id_number'])"
   ]
  },
  {
   "cell_type": "code",
   "execution_count": 16,
   "metadata": {},
   "outputs": [],
   "source": [
    "## updating knockout column value to 0 if null/empty\n",
    "data.loc[data['knockout_match'].isnull(),'knockout_match'] = 0"
   ]
  },
  {
   "cell_type": "code",
   "execution_count": 17,
   "metadata": {},
   "outputs": [
    {
     "data": {
      "text/plain": [
       "location_x           5.0\n",
       "location_y           5.0\n",
       "remaining_min        5.0\n",
       "power_of_shot        5.0\n",
       "knockout_match       0.0\n",
       "game_season         19.0\n",
       "remaining_sec        5.0\n",
       "distance_of_shot     5.0\n",
       "is_goal             20.0\n",
       "area_of_shot         5.0\n",
       "shot_basics          5.0\n",
       "range_of_shot        5.0\n",
       "date_of_game         5.0\n",
       "home/away            5.0\n",
       "shot_id_number       0.0\n",
       "lat/lng              5.0\n",
       "type_of_shot         0.0\n",
       "dtype: float64"
      ]
     },
     "execution_count": 17,
     "metadata": {},
     "output_type": "execute_result"
    }
   ],
   "source": [
    "round(data.isnull().sum()/len(data.index), 2)*100"
   ]
  },
  {
   "cell_type": "code",
   "execution_count": 18,
   "metadata": {},
   "outputs": [],
   "source": [
    "data['date_of_game'] =  data['date_of_game'].astype('datetime64[ns]')"
   ]
  },
  {
   "cell_type": "code",
   "execution_count": 19,
   "metadata": {},
   "outputs": [],
   "source": [
    "data['game_season'] = data['game_season'].str.split('-').str[0]\n",
    "data.loc[data['game_season'].isnull(),'game_season'] = data['date_of_game'].dt.year\n",
    "data.loc[data['date_of_game'].isnull(),'date_of_game'] = data['game_season'].astype('datetime64[ns]') "
   ]
  },
  {
   "cell_type": "code",
   "execution_count": 20,
   "metadata": {},
   "outputs": [],
   "source": [
    "data['lat/lng'].replace(' ', np.nan, inplace=True)"
   ]
  },
  {
   "cell_type": "code",
   "execution_count": 21,
   "metadata": {},
   "outputs": [],
   "source": [
    "data['latitude'] = data['lat/lng'].str.split(',').str[0]\n",
    "data['longitude'] = data['lat/lng'].str.split(',').str[1]\n",
    "data = data.drop(['lat/lng','date_of_game'], axis=1)"
   ]
  },
  {
   "cell_type": "code",
   "execution_count": 22,
   "metadata": {},
   "outputs": [
    {
     "data": {
      "text/plain": [
       "location_x           5.0\n",
       "location_y           5.0\n",
       "remaining_min        5.0\n",
       "power_of_shot        5.0\n",
       "knockout_match       0.0\n",
       "game_season          1.0\n",
       "remaining_sec        5.0\n",
       "distance_of_shot     5.0\n",
       "is_goal             20.0\n",
       "area_of_shot         5.0\n",
       "shot_basics          5.0\n",
       "range_of_shot        5.0\n",
       "home/away            5.0\n",
       "shot_id_number       0.0\n",
       "type_of_shot         0.0\n",
       "latitude             5.0\n",
       "longitude            5.0\n",
       "dtype: float64"
      ]
     },
     "execution_count": 22,
     "metadata": {},
     "output_type": "execute_result"
    }
   ],
   "source": [
    "round(data.isnull().sum()/len(data.index), 2)*100"
   ]
  },
  {
   "cell_type": "code",
   "execution_count": 23,
   "metadata": {},
   "outputs": [],
   "source": [
    "#data['date_of_game'].replace(' ', np.nan, inplace=True)\n",
    "#data= data.dropna(subset=['date_of_game'])"
   ]
  },
  {
   "cell_type": "code",
   "execution_count": 24,
   "metadata": {},
   "outputs": [
    {
     "name": "stdout",
     "output_type": "stream",
     "text": [
      "<class 'pandas.core.frame.DataFrame'>\n",
      "Int64Index: 29134 entries, 0 to 30696\n",
      "Data columns (total 16 columns):\n",
      "location_x          27749 non-null float64\n",
      "location_y          27670 non-null float64\n",
      "remaining_min       26204 non-null float64\n",
      "power_of_shot       27731 non-null float64\n",
      "knockout_match      29134 non-null float64\n",
      "game_season         28848 non-null object\n",
      "distance_of_shot    27648 non-null float64\n",
      "is_goal             23179 non-null float64\n",
      "area_of_shot        27714 non-null object\n",
      "shot_basics         27640 non-null object\n",
      "range_of_shot       27651 non-null object\n",
      "home/away           27720 non-null object\n",
      "shot_id_number      29134 non-null float64\n",
      "type_of_shot        29134 non-null object\n",
      "latitude            27665 non-null object\n",
      "longitude           27665 non-null object\n",
      "dtypes: float64(8), object(8)\n",
      "memory usage: 5.0+ MB\n"
     ]
    }
   ],
   "source": [
    "## converting seconds to mins and dropping seconds column\n",
    "\n",
    "data['remaining_sec'] = data['remaining_sec']/60\n",
    "data['remaining_min'] = data['remaining_min'] + data['remaining_sec']\n",
    "data = data.drop(['remaining_sec'], axis=1)\n",
    "data.info()"
   ]
  },
  {
   "cell_type": "code",
   "execution_count": 25,
   "metadata": {},
   "outputs": [
    {
     "data": {
      "text/html": [
       "<div>\n",
       "<style scoped>\n",
       "    .dataframe tbody tr th:only-of-type {\n",
       "        vertical-align: middle;\n",
       "    }\n",
       "\n",
       "    .dataframe tbody tr th {\n",
       "        vertical-align: top;\n",
       "    }\n",
       "\n",
       "    .dataframe thead th {\n",
       "        text-align: right;\n",
       "    }\n",
       "</style>\n",
       "<table border=\"1\" class=\"dataframe\">\n",
       "  <thead>\n",
       "    <tr style=\"text-align: right;\">\n",
       "      <th></th>\n",
       "      <th>Total</th>\n",
       "      <th>Percent</th>\n",
       "    </tr>\n",
       "  </thead>\n",
       "  <tbody>\n",
       "    <tr>\n",
       "      <th>is_goal</th>\n",
       "      <td>5955</td>\n",
       "      <td>0.204400</td>\n",
       "    </tr>\n",
       "    <tr>\n",
       "      <th>remaining_min</th>\n",
       "      <td>2930</td>\n",
       "      <td>0.100570</td>\n",
       "    </tr>\n",
       "    <tr>\n",
       "      <th>shot_basics</th>\n",
       "      <td>1494</td>\n",
       "      <td>0.051280</td>\n",
       "    </tr>\n",
       "    <tr>\n",
       "      <th>distance_of_shot</th>\n",
       "      <td>1486</td>\n",
       "      <td>0.051006</td>\n",
       "    </tr>\n",
       "    <tr>\n",
       "      <th>range_of_shot</th>\n",
       "      <td>1483</td>\n",
       "      <td>0.050903</td>\n",
       "    </tr>\n",
       "  </tbody>\n",
       "</table>\n",
       "</div>"
      ],
      "text/plain": [
       "                  Total   Percent\n",
       "is_goal            5955  0.204400\n",
       "remaining_min      2930  0.100570\n",
       "shot_basics        1494  0.051280\n",
       "distance_of_shot   1486  0.051006\n",
       "range_of_shot      1483  0.050903"
      ]
     },
     "execution_count": 25,
     "metadata": {},
     "output_type": "execute_result"
    },
    {
     "data": {
      "image/png": "[encoded data removed]",
      "text/plain": [
       "<Figure size 1080x432 with 1 Axes>"
      ]
     },
     "metadata": {
      "needs_background": "light"
     },
     "output_type": "display_data"
    }
   ],
   "source": [
    "total = data.isnull().sum().sort_values(ascending=False)\n",
    "percent = (data.isnull().sum()/data.isnull().count()).sort_values(ascending=False)\n",
    "missing_data = pd.concat([total, percent], axis=1, keys=['Total', 'Percent'])\n",
    "f, ax = plt.subplots(figsize=(15, 6))\n",
    "plt.xticks(rotation='90')\n",
    "sns.barplot(x=missing_data.index, y=missing_data['Percent'])\n",
    "plt.xlabel('Features', fontsize=15)\n",
    "plt.ylabel('Percent of missing values', fontsize=15)\n",
    "plt.title('Percent missing data by feature', fontsize=15)\n",
    "missing_data.head()"
   ]
  },
  {
   "cell_type": "code",
   "execution_count": 26,
   "metadata": {},
   "outputs": [
    {
     "name": "stdout",
     "output_type": "stream",
     "text": [
      "<class 'pandas.core.frame.DataFrame'>\n",
      "Int64Index: 29134 entries, 0 to 30696\n",
      "Data columns (total 16 columns):\n",
      "location_x          27749 non-null float64\n",
      "location_y          27670 non-null float64\n",
      "remaining_min       26204 non-null float64\n",
      "power_of_shot       27731 non-null float64\n",
      "knockout_match      29134 non-null float64\n",
      "game_season         28848 non-null object\n",
      "distance_of_shot    27648 non-null float64\n",
      "is_goal             23179 non-null float64\n",
      "area_of_shot        27714 non-null object\n",
      "shot_basics         27640 non-null object\n",
      "range_of_shot       27651 non-null object\n",
      "home/away           27720 non-null object\n",
      "shot_id_number      29134 non-null float64\n",
      "type_of_shot        29134 non-null object\n",
      "latitude            27665 non-null object\n",
      "longitude           27665 non-null object\n",
      "dtypes: float64(8), object(8)\n",
      "memory usage: 5.0+ MB\n"
     ]
    }
   ],
   "source": [
    "data.info()"
   ]
  },
  {
   "cell_type": "code",
   "execution_count": 27,
   "metadata": {},
   "outputs": [],
   "source": [
    "filtered_data = data.loc[:, data.columns != 'is_goal']\n",
    "is_goal = data['is_goal']\n",
    "filtered_data.fillna(method='ffill',inplace=True)"
   ]
  },
  {
   "cell_type": "code",
   "execution_count": 28,
   "metadata": {},
   "outputs": [],
   "source": [
    "data = pd.concat([filtered_data, is_goal], axis=1)"
   ]
  },
  {
   "cell_type": "code",
   "execution_count": 29,
   "metadata": {},
   "outputs": [
    {
     "name": "stdout",
     "output_type": "stream",
     "text": [
      "<class 'pandas.core.frame.DataFrame'>\n",
      "Int64Index: 29134 entries, 0 to 30696\n",
      "Data columns (total 16 columns):\n",
      "location_x          29134 non-null float64\n",
      "location_y          29134 non-null float64\n",
      "remaining_min       29134 non-null float64\n",
      "power_of_shot       29134 non-null float64\n",
      "knockout_match      29134 non-null float64\n",
      "game_season         29134 non-null object\n",
      "distance_of_shot    29134 non-null float64\n",
      "area_of_shot        29134 non-null object\n",
      "shot_basics         29134 non-null object\n",
      "range_of_shot       29134 non-null object\n",
      "home/away           29134 non-null object\n",
      "shot_id_number      29134 non-null float64\n",
      "type_of_shot        29134 non-null object\n",
      "latitude            29134 non-null object\n",
      "longitude           29134 non-null object\n",
      "is_goal             23179 non-null float64\n",
      "dtypes: float64(8), object(8)\n",
      "memory usage: 5.0+ MB\n"
     ]
    }
   ],
   "source": [
    "data.info()"
   ]
  },
  {
   "cell_type": "code",
   "execution_count": 30,
   "metadata": {},
   "outputs": [
    {
     "data": {
      "text/plain": [
       "is_goal             5955\n",
       "longitude              0\n",
       "latitude               0\n",
       "type_of_shot           0\n",
       "shot_id_number         0\n",
       "home/away              0\n",
       "range_of_shot          0\n",
       "shot_basics            0\n",
       "area_of_shot           0\n",
       "distance_of_shot       0\n",
       "game_season            0\n",
       "knockout_match         0\n",
       "power_of_shot          0\n",
       "remaining_min          0\n",
       "location_y             0\n",
       "location_x             0\n",
       "dtype: int64"
      ]
     },
     "execution_count": 30,
     "metadata": {},
     "output_type": "execute_result"
    }
   ],
   "source": [
    "data.isnull().sum().sort_values(ascending=False)"
   ]
  },
  {
   "cell_type": "code",
   "execution_count": 31,
   "metadata": {},
   "outputs": [],
   "source": [
    "### calculate home and away... and update the home away column based on the date of match values...\n",
    "data['home/away'].replace(' ', np.nan, inplace=True)\n",
    "data.loc[data['home/away'].str.contains('@'),'home/away'] = '0'\n",
    "data.loc[data['home/away'].str.contains(' vs. '),'home/away'] = '1'\n",
    "data[\"home/away\"] = pd.to_numeric(data[\"home/away\"])"
   ]
  },
  {
   "cell_type": "code",
   "execution_count": 32,
   "metadata": {},
   "outputs": [],
   "source": [
    "data[\"game_season\"] = pd.to_numeric(data[\"game_season\"])"
   ]
  },
  {
   "cell_type": "code",
   "execution_count": 33,
   "metadata": {},
   "outputs": [],
   "source": [
    "data['remaining_min'].replace(' ', np.nan, inplace=True)\n",
    "data.loc[data['remaining_min'].isnull(),'remaining_min'] = 0"
   ]
  },
  {
   "cell_type": "code",
   "execution_count": 34,
   "metadata": {},
   "outputs": [
    {
     "data": {
      "text/html": [
       "<div>\n",
       "<style scoped>\n",
       "    .dataframe tbody tr th:only-of-type {\n",
       "        vertical-align: middle;\n",
       "    }\n",
       "\n",
       "    .dataframe tbody tr th {\n",
       "        vertical-align: top;\n",
       "    }\n",
       "\n",
       "    .dataframe thead th {\n",
       "        text-align: right;\n",
       "    }\n",
       "</style>\n",
       "<table border=\"1\" class=\"dataframe\">\n",
       "  <thead>\n",
       "    <tr style=\"text-align: right;\">\n",
       "      <th></th>\n",
       "      <th>location_x</th>\n",
       "      <th>location_y</th>\n",
       "      <th>remaining_min</th>\n",
       "      <th>power_of_shot</th>\n",
       "      <th>knockout_match</th>\n",
       "      <th>game_season</th>\n",
       "      <th>distance_of_shot</th>\n",
       "      <th>area_of_shot</th>\n",
       "      <th>shot_basics</th>\n",
       "      <th>range_of_shot</th>\n",
       "      <th>home/away</th>\n",
       "      <th>shot_id_number</th>\n",
       "      <th>type_of_shot</th>\n",
       "      <th>latitude</th>\n",
       "      <th>longitude</th>\n",
       "      <th>is_goal</th>\n",
       "    </tr>\n",
       "  </thead>\n",
       "  <tbody>\n",
       "    <tr>\n",
       "      <th>0</th>\n",
       "      <td>167.0</td>\n",
       "      <td>72.0</td>\n",
       "      <td>10.450000</td>\n",
       "      <td>1.0</td>\n",
       "      <td>0.0</td>\n",
       "      <td>2000.0</td>\n",
       "      <td>38.0</td>\n",
       "      <td>Right Side(R)</td>\n",
       "      <td>Mid Range</td>\n",
       "      <td>16-24 ft.</td>\n",
       "      <td>0</td>\n",
       "      <td>1.0</td>\n",
       "      <td>shot - 30</td>\n",
       "      <td>45.539131</td>\n",
       "      <td>-122.651648</td>\n",
       "      <td>NaN</td>\n",
       "    </tr>\n",
       "    <tr>\n",
       "      <th>1</th>\n",
       "      <td>-157.0</td>\n",
       "      <td>0.0</td>\n",
       "      <td>10.366667</td>\n",
       "      <td>1.0</td>\n",
       "      <td>0.0</td>\n",
       "      <td>2000.0</td>\n",
       "      <td>35.0</td>\n",
       "      <td>Left Side(L)</td>\n",
       "      <td>Mid Range</td>\n",
       "      <td>8-16 ft.</td>\n",
       "      <td>0</td>\n",
       "      <td>2.0</td>\n",
       "      <td>shot - 45</td>\n",
       "      <td>45.539131</td>\n",
       "      <td>-122.651648</td>\n",
       "      <td>0.0</td>\n",
       "    </tr>\n",
       "    <tr>\n",
       "      <th>2</th>\n",
       "      <td>-101.0</td>\n",
       "      <td>135.0</td>\n",
       "      <td>7.750000</td>\n",
       "      <td>1.0</td>\n",
       "      <td>0.0</td>\n",
       "      <td>2000.0</td>\n",
       "      <td>36.0</td>\n",
       "      <td>Left Side Center(LC)</td>\n",
       "      <td>Mid Range</td>\n",
       "      <td>16-24 ft.</td>\n",
       "      <td>0</td>\n",
       "      <td>3.0</td>\n",
       "      <td>shot - 25</td>\n",
       "      <td>45.539131</td>\n",
       "      <td>-122.651648</td>\n",
       "      <td>1.0</td>\n",
       "    </tr>\n",
       "    <tr>\n",
       "      <th>3</th>\n",
       "      <td>138.0</td>\n",
       "      <td>175.0</td>\n",
       "      <td>6.866667</td>\n",
       "      <td>1.0</td>\n",
       "      <td>0.0</td>\n",
       "      <td>2000.0</td>\n",
       "      <td>42.0</td>\n",
       "      <td>Right Side Center(RC)</td>\n",
       "      <td>Mid Range</td>\n",
       "      <td>16-24 ft.</td>\n",
       "      <td>0</td>\n",
       "      <td>4.0</td>\n",
       "      <td>shot - 3</td>\n",
       "      <td>45.539131</td>\n",
       "      <td>-122.651648</td>\n",
       "      <td>0.0</td>\n",
       "    </tr>\n",
       "    <tr>\n",
       "      <th>4</th>\n",
       "      <td>0.0</td>\n",
       "      <td>0.0</td>\n",
       "      <td>6.866667</td>\n",
       "      <td>2.0</td>\n",
       "      <td>0.0</td>\n",
       "      <td>2000.0</td>\n",
       "      <td>20.0</td>\n",
       "      <td>Center(C)</td>\n",
       "      <td>Goal Area</td>\n",
       "      <td>Less Than 8 ft.</td>\n",
       "      <td>0</td>\n",
       "      <td>5.0</td>\n",
       "      <td>shot - 1</td>\n",
       "      <td>45.539131</td>\n",
       "      <td>-122.651648</td>\n",
       "      <td>1.0</td>\n",
       "    </tr>\n",
       "  </tbody>\n",
       "</table>\n",
       "</div>"
      ],
      "text/plain": [
       "   location_x  location_y  remaining_min  power_of_shot  knockout_match  \\\n",
       "0       167.0        72.0      10.450000            1.0             0.0   \n",
       "1      -157.0         0.0      10.366667            1.0             0.0   \n",
       "2      -101.0       135.0       7.750000            1.0             0.0   \n",
       "3       138.0       175.0       6.866667            1.0             0.0   \n",
       "4         0.0         0.0       6.866667            2.0             0.0   \n",
       "\n",
       "   game_season  distance_of_shot           area_of_shot shot_basics  \\\n",
       "0       2000.0              38.0          Right Side(R)   Mid Range   \n",
       "1       2000.0              35.0           Left Side(L)   Mid Range   \n",
       "2       2000.0              36.0   Left Side Center(LC)   Mid Range   \n",
       "3       2000.0              42.0  Right Side Center(RC)   Mid Range   \n",
       "4       2000.0              20.0              Center(C)   Goal Area   \n",
       "\n",
       "     range_of_shot  home/away  shot_id_number type_of_shot   latitude  \\\n",
       "0        16-24 ft.          0             1.0    shot - 30  45.539131   \n",
       "1         8-16 ft.          0             2.0    shot - 45  45.539131   \n",
       "2        16-24 ft.          0             3.0    shot - 25  45.539131   \n",
       "3        16-24 ft.          0             4.0     shot - 3  45.539131   \n",
       "4  Less Than 8 ft.          0             5.0     shot - 1  45.539131   \n",
       "\n",
       "      longitude  is_goal  \n",
       "0   -122.651648      NaN  \n",
       "1   -122.651648      0.0  \n",
       "2   -122.651648      1.0  \n",
       "3   -122.651648      0.0  \n",
       "4   -122.651648      1.0  "
      ]
     },
     "execution_count": 34,
     "metadata": {},
     "output_type": "execute_result"
    }
   ],
   "source": [
    "data.head()"
   ]
  },
  {
   "cell_type": "code",
   "execution_count": 35,
   "metadata": {},
   "outputs": [],
   "source": [
    "data['location_x'].replace(' ', np.nan, inplace=True)\n",
    "data['location_y'].replace(' ', np.nan, inplace=True)\n",
    "data.loc[data['location_x'].isnull(),'location_x'] = 0\n",
    "data.loc[data['location_y'].isnull(),'location_y'] = 0"
   ]
  },
  {
   "cell_type": "code",
   "execution_count": 36,
   "metadata": {},
   "outputs": [
    {
     "data": {
      "text/plain": [
       "location_x            488\n",
       "location_y            448\n",
       "remaining_min         715\n",
       "power_of_shot           7\n",
       "knockout_match          2\n",
       "game_season            21\n",
       "distance_of_shot       72\n",
       "area_of_shot            6\n",
       "shot_basics             7\n",
       "range_of_shot           5\n",
       "home/away               2\n",
       "shot_id_number      29134\n",
       "type_of_shot           57\n",
       "latitude               38\n",
       "longitude              38\n",
       "is_goal                 2\n",
       "dtype: int64"
      ]
     },
     "execution_count": 36,
     "metadata": {},
     "output_type": "execute_result"
    }
   ],
   "source": [
    "data.nunique()"
   ]
  },
  {
   "cell_type": "code",
   "execution_count": 37,
   "metadata": {},
   "outputs": [
    {
     "data": {
      "text/plain": [
       "<matplotlib.axes._subplots.AxesSubplot at 0x19518001ac8>"
      ]
     },
     "execution_count": 37,
     "metadata": {},
     "output_type": "execute_result"
    },
    {
     "data": {
      "image/png": "[encoded data removed]",
      "text/plain": [
       "<Figure size 1440x864 with 1 Axes>"
      ]
     },
     "metadata": {
      "needs_background": "light"
     },
     "output_type": "display_data"
    }
   ],
   "source": [
    "plt.figure(figsize=(20, 12))\n",
    "plt.subplot(1,1,1)\n",
    "sns.boxplot(x = 'power_of_shot', y = 'shot_id_number', data = data)"
   ]
  },
  {
   "cell_type": "code",
   "execution_count": 38,
   "metadata": {},
   "outputs": [
    {
     "data": {
      "image/png": "[encoded data removed]",
      "text/plain": [
       "<Figure size 360x360 with 1 Axes>"
      ]
     },
     "metadata": {
      "needs_background": "light"
     },
     "output_type": "display_data"
    }
   ],
   "source": [
    "sns.catplot(x=\"range_of_shot\", y=\"shot_id_number\", kind=\"box\", data=data);"
   ]
  },
  {
   "cell_type": "code",
   "execution_count": 39,
   "metadata": {},
   "outputs": [
    {
     "data": {
      "image/png": "[encoded data removed]",
      "text/plain": [
       "<Figure size 360x360 with 1 Axes>"
      ]
     },
     "metadata": {
      "needs_background": "light"
     },
     "output_type": "display_data"
    }
   ],
   "source": [
    "sns.catplot(x=\"area_of_shot\", y=\"shot_id_number\", kind=\"box\", data=data);"
   ]
  },
  {
   "cell_type": "code",
   "execution_count": 40,
   "metadata": {},
   "outputs": [
    {
     "data": {
      "image/png": "[encoded data removed]",
      "text/plain": [
       "<Figure size 360x360 with 1 Axes>"
      ]
     },
     "metadata": {
      "needs_background": "light"
     },
     "output_type": "display_data"
    }
   ],
   "source": [
    "sns.catplot(x=\"shot_basics\", y=\"shot_id_number\", kind=\"box\", data=data);"
   ]
  },
  {
   "cell_type": "code",
   "execution_count": 41,
   "metadata": {},
   "outputs": [],
   "source": [
    "#data['shot_basics'].replace(' ', np.nan, inplace=True)\n",
    "#data= data.dropna(subset=['shot_basics'])\n",
    "#data['range_of_shot'].replace(' ', np.nan, inplace=True)\n",
    "#data= data.dropna(subset=['range_of_shot'])\n",
    "#data['area_of_shot'].replace(' ', np.nan, inplace=True)\n",
    "#data= data.dropna(subset=['area_of_shot'])\n",
    "#round(data.isnull().sum()/len(data.index), 2)*100"
   ]
  },
  {
   "cell_type": "code",
   "execution_count": null,
   "metadata": {},
   "outputs": [],
   "source": []
  },
  {
   "cell_type": "code",
   "execution_count": null,
   "metadata": {},
   "outputs": [],
   "source": []
  },
  {
   "cell_type": "code",
   "execution_count": null,
   "metadata": {},
   "outputs": [],
   "source": []
  },
  {
   "cell_type": "code",
   "execution_count": null,
   "metadata": {},
   "outputs": [],
   "source": []
  },
  {
   "cell_type": "code",
   "execution_count": null,
   "metadata": {},
   "outputs": [],
   "source": []
  },
  {
   "cell_type": "code",
   "execution_count": 42,
   "metadata": {},
   "outputs": [
    {
     "data": {
      "text/html": [
       "<div>\n",
       "<style scoped>\n",
       "    .dataframe tbody tr th:only-of-type {\n",
       "        vertical-align: middle;\n",
       "    }\n",
       "\n",
       "    .dataframe tbody tr th {\n",
       "        vertical-align: top;\n",
       "    }\n",
       "\n",
       "    .dataframe thead th {\n",
       "        text-align: right;\n",
       "    }\n",
       "</style>\n",
       "<table border=\"1\" class=\"dataframe\">\n",
       "  <thead>\n",
       "    <tr style=\"text-align: right;\">\n",
       "      <th></th>\n",
       "      <th>Goal Line</th>\n",
       "      <th>Left Corner</th>\n",
       "      <th>Mid Ground Line</th>\n",
       "      <th>Mid Range</th>\n",
       "      <th>Penalty Spot</th>\n",
       "      <th>Right Corner</th>\n",
       "    </tr>\n",
       "  </thead>\n",
       "  <tbody>\n",
       "    <tr>\n",
       "      <th>0</th>\n",
       "      <td>0</td>\n",
       "      <td>0</td>\n",
       "      <td>0</td>\n",
       "      <td>1</td>\n",
       "      <td>0</td>\n",
       "      <td>0</td>\n",
       "    </tr>\n",
       "    <tr>\n",
       "      <th>1</th>\n",
       "      <td>0</td>\n",
       "      <td>0</td>\n",
       "      <td>0</td>\n",
       "      <td>1</td>\n",
       "      <td>0</td>\n",
       "      <td>0</td>\n",
       "    </tr>\n",
       "    <tr>\n",
       "      <th>2</th>\n",
       "      <td>0</td>\n",
       "      <td>0</td>\n",
       "      <td>0</td>\n",
       "      <td>1</td>\n",
       "      <td>0</td>\n",
       "      <td>0</td>\n",
       "    </tr>\n",
       "    <tr>\n",
       "      <th>3</th>\n",
       "      <td>0</td>\n",
       "      <td>0</td>\n",
       "      <td>0</td>\n",
       "      <td>1</td>\n",
       "      <td>0</td>\n",
       "      <td>0</td>\n",
       "    </tr>\n",
       "    <tr>\n",
       "      <th>4</th>\n",
       "      <td>0</td>\n",
       "      <td>0</td>\n",
       "      <td>0</td>\n",
       "      <td>0</td>\n",
       "      <td>0</td>\n",
       "      <td>0</td>\n",
       "    </tr>\n",
       "  </tbody>\n",
       "</table>\n",
       "</div>"
      ],
      "text/plain": [
       "   Goal Line  Left Corner  Mid Ground Line  Mid Range  Penalty Spot  \\\n",
       "0          0            0                0          1             0   \n",
       "1          0            0                0          1             0   \n",
       "2          0            0                0          1             0   \n",
       "3          0            0                0          1             0   \n",
       "4          0            0                0          0             0   \n",
       "\n",
       "   Right Corner  \n",
       "0             0  \n",
       "1             0  \n",
       "2             0  \n",
       "3             0  \n",
       "4             0  "
      ]
     },
     "execution_count": 42,
     "metadata": {},
     "output_type": "execute_result"
    }
   ],
   "source": [
    "shot_basics = pd.get_dummies(data['shot_basics'], drop_first = True)\n",
    "shot_basics.head()"
   ]
  },
  {
   "cell_type": "code",
   "execution_count": 43,
   "metadata": {},
   "outputs": [],
   "source": [
    "data = pd.concat([data, shot_basics], axis = 1)"
   ]
  },
  {
   "cell_type": "code",
   "execution_count": 44,
   "metadata": {},
   "outputs": [],
   "source": [
    "#range_of_shot = pd.get_dummies(data['range_of_shot'], drop_first = True)\n",
    "#area_of_shot = pd.get_dummies(data['area_of_shot'], drop_first = True)"
   ]
  },
  {
   "cell_type": "code",
   "execution_count": 45,
   "metadata": {},
   "outputs": [],
   "source": [
    "#data = pd.concat([data, range_of_shot], axis = 1)\n",
    "#data = pd.concat([data, area_of_shot], axis = 1)"
   ]
  },
  {
   "cell_type": "code",
   "execution_count": 46,
   "metadata": {},
   "outputs": [
    {
     "name": "stdout",
     "output_type": "stream",
     "text": [
      "<class 'pandas.core.frame.DataFrame'>\n",
      "Int64Index: 29134 entries, 0 to 30696\n",
      "Data columns (total 22 columns):\n",
      "location_x          29134 non-null float64\n",
      "location_y          29134 non-null float64\n",
      "remaining_min       29134 non-null float64\n",
      "power_of_shot       29134 non-null float64\n",
      "knockout_match      29134 non-null float64\n",
      "game_season         29134 non-null float64\n",
      "distance_of_shot    29134 non-null float64\n",
      "area_of_shot        29134 non-null object\n",
      "shot_basics         29134 non-null object\n",
      "range_of_shot       29134 non-null object\n",
      "home/away           29134 non-null int64\n",
      "shot_id_number      29134 non-null float64\n",
      "type_of_shot        29134 non-null object\n",
      "latitude            29134 non-null object\n",
      "longitude           29134 non-null object\n",
      "is_goal             23179 non-null float64\n",
      "Goal Line           29134 non-null uint8\n",
      "Left Corner         29134 non-null uint8\n",
      "Mid Ground Line     29134 non-null uint8\n",
      "Mid Range           29134 non-null uint8\n",
      "Penalty Spot        29134 non-null uint8\n",
      "Right Corner        29134 non-null uint8\n",
      "dtypes: float64(9), int64(1), object(6), uint8(6)\n",
      "memory usage: 5.2+ MB\n"
     ]
    }
   ],
   "source": [
    "data.info()"
   ]
  },
  {
   "cell_type": "code",
   "execution_count": 47,
   "metadata": {},
   "outputs": [],
   "source": [
    "data.drop(['shot_basics'], axis = 1, inplace = True)"
   ]
  },
  {
   "cell_type": "code",
   "execution_count": 48,
   "metadata": {},
   "outputs": [
    {
     "data": {
      "image/png": "[encoded data removed]",
      "text/plain": [
       "<Figure size 432x288 with 1 Axes>"
      ]
     },
     "metadata": {
      "needs_background": "light"
     },
     "output_type": "display_data"
    }
   ],
   "source": [
    "sns.distplot(data['distance_of_shot'])\n",
    "plt.show()"
   ]
  },
  {
   "cell_type": "code",
   "execution_count": 49,
   "metadata": {},
   "outputs": [
    {
     "name": "stdout",
     "output_type": "stream",
     "text": [
      "<class 'pandas.core.frame.DataFrame'>\n",
      "Int64Index: 29134 entries, 0 to 30696\n",
      "Data columns (total 21 columns):\n",
      "location_x          29134 non-null float64\n",
      "location_y          29134 non-null float64\n",
      "remaining_min       29134 non-null float64\n",
      "power_of_shot       29134 non-null float64\n",
      "knockout_match      29134 non-null float64\n",
      "game_season         29134 non-null float64\n",
      "distance_of_shot    29134 non-null float64\n",
      "area_of_shot        29134 non-null object\n",
      "range_of_shot       29134 non-null object\n",
      "home/away           29134 non-null int64\n",
      "shot_id_number      29134 non-null float64\n",
      "type_of_shot        29134 non-null object\n",
      "latitude            29134 non-null object\n",
      "longitude           29134 non-null object\n",
      "is_goal             23179 non-null float64\n",
      "Goal Line           29134 non-null uint8\n",
      "Left Corner         29134 non-null uint8\n",
      "Mid Ground Line     29134 non-null uint8\n",
      "Mid Range           29134 non-null uint8\n",
      "Penalty Spot        29134 non-null uint8\n",
      "Right Corner        29134 non-null uint8\n",
      "dtypes: float64(9), int64(1), object(5), uint8(6)\n",
      "memory usage: 5.0+ MB\n"
     ]
    }
   ],
   "source": [
    "data.info()"
   ]
  },
  {
   "cell_type": "code",
   "execution_count": 50,
   "metadata": {},
   "outputs": [],
   "source": [
    "from sklearn.preprocessing import LabelEncoder\n",
    "lb_make = LabelEncoder()\n",
    "data['type_of_shot'] = lb_make.fit_transform(data['type_of_shot'])\n",
    "data['range_of_shot'] = lb_make.fit_transform(data['range_of_shot'])\n",
    "data['area_of_shot'] = lb_make.fit_transform(data['area_of_shot'])"
   ]
  },
  {
   "cell_type": "markdown",
   "metadata": {},
   "source": [
    "#### transforming the categorical values to linear ones."
   ]
  },
  {
   "cell_type": "code",
   "execution_count": 51,
   "metadata": {},
   "outputs": [],
   "source": [
    "from sklearn.preprocessing import MinMaxScaler"
   ]
  },
  {
   "cell_type": "code",
   "execution_count": 52,
   "metadata": {},
   "outputs": [],
   "source": [
    "scaler = MinMaxScaler()"
   ]
  },
  {
   "cell_type": "code",
   "execution_count": 53,
   "metadata": {},
   "outputs": [],
   "source": [
    "# Apply scaler() to all the columns except the 'yes-no' and 'dummy' variables\n",
    "num_vars = ['location_x', 'location_y', 'latitude', 'longitude']\n",
    "\n",
    "data[num_vars] = scaler.fit_transform(data[num_vars])"
   ]
  },
  {
   "cell_type": "code",
   "execution_count": 54,
   "metadata": {},
   "outputs": [
    {
     "data": {
      "image/png": "[encoded data removed]",
      "text/plain": [
       "<Figure size 1152x720 with 2 Axes>"
      ]
     },
     "metadata": {
      "needs_background": "light"
     },
     "output_type": "display_data"
    }
   ],
   "source": [
    "plt.figure(figsize = (16, 10))\n",
    "sns.heatmap(data.corr(), annot = True, cmap=\"YlGnBu\")\n",
    "plt.show()"
   ]
  },
  {
   "cell_type": "markdown",
   "metadata": {},
   "source": [
    "## Running the test train split now, and fetching all isGoal null values for test data"
   ]
  },
  {
   "cell_type": "code",
   "execution_count": 55,
   "metadata": {},
   "outputs": [
    {
     "data": {
      "text/plain": [
       "(5955, 21)"
      ]
     },
     "execution_count": 55,
     "metadata": {},
     "output_type": "execute_result"
    }
   ],
   "source": [
    "data['is_goal'].replace(' ', np.nan, inplace=True)\n",
    "test = data[data['is_goal'].isnull()]\n",
    "test.shape"
   ]
  },
  {
   "cell_type": "code",
   "execution_count": 56,
   "metadata": {},
   "outputs": [
    {
     "data": {
      "text/html": [
       "<div>\n",
       "<style scoped>\n",
       "    .dataframe tbody tr th:only-of-type {\n",
       "        vertical-align: middle;\n",
       "    }\n",
       "\n",
       "    .dataframe tbody tr th {\n",
       "        vertical-align: top;\n",
       "    }\n",
       "\n",
       "    .dataframe thead th {\n",
       "        text-align: right;\n",
       "    }\n",
       "</style>\n",
       "<table border=\"1\" class=\"dataframe\">\n",
       "  <thead>\n",
       "    <tr style=\"text-align: right;\">\n",
       "      <th></th>\n",
       "      <th>location_x</th>\n",
       "      <th>location_y</th>\n",
       "      <th>remaining_min</th>\n",
       "      <th>power_of_shot</th>\n",
       "      <th>knockout_match</th>\n",
       "      <th>game_season</th>\n",
       "      <th>distance_of_shot</th>\n",
       "      <th>area_of_shot</th>\n",
       "      <th>range_of_shot</th>\n",
       "      <th>home/away</th>\n",
       "      <th>...</th>\n",
       "      <th>type_of_shot</th>\n",
       "      <th>latitude</th>\n",
       "      <th>longitude</th>\n",
       "      <th>is_goal</th>\n",
       "      <th>Goal Line</th>\n",
       "      <th>Left Corner</th>\n",
       "      <th>Mid Ground Line</th>\n",
       "      <th>Mid Range</th>\n",
       "      <th>Penalty Spot</th>\n",
       "      <th>Right Corner</th>\n",
       "    </tr>\n",
       "  </thead>\n",
       "  <tbody>\n",
       "    <tr>\n",
       "      <th>1</th>\n",
       "      <td>0.186747</td>\n",
       "      <td>0.052695</td>\n",
       "      <td>10.366667</td>\n",
       "      <td>1.0</td>\n",
       "      <td>0.0</td>\n",
       "      <td>2000.0</td>\n",
       "      <td>35.0</td>\n",
       "      <td>2</td>\n",
       "      <td>2</td>\n",
       "      <td>0</td>\n",
       "      <td>...</td>\n",
       "      <td>40</td>\n",
       "      <td>0.841814</td>\n",
       "      <td>0.008897</td>\n",
       "      <td>0.0</td>\n",
       "      <td>0</td>\n",
       "      <td>0</td>\n",
       "      <td>0</td>\n",
       "      <td>1</td>\n",
       "      <td>0</td>\n",
       "      <td>0</td>\n",
       "    </tr>\n",
       "    <tr>\n",
       "      <th>2</th>\n",
       "      <td>0.299197</td>\n",
       "      <td>0.214371</td>\n",
       "      <td>7.750000</td>\n",
       "      <td>1.0</td>\n",
       "      <td>0.0</td>\n",
       "      <td>2000.0</td>\n",
       "      <td>36.0</td>\n",
       "      <td>1</td>\n",
       "      <td>0</td>\n",
       "      <td>0</td>\n",
       "      <td>...</td>\n",
       "      <td>18</td>\n",
       "      <td>0.841814</td>\n",
       "      <td>0.008897</td>\n",
       "      <td>1.0</td>\n",
       "      <td>0</td>\n",
       "      <td>0</td>\n",
       "      <td>0</td>\n",
       "      <td>1</td>\n",
       "      <td>0</td>\n",
       "      <td>0</td>\n",
       "    </tr>\n",
       "    <tr>\n",
       "      <th>3</th>\n",
       "      <td>0.779116</td>\n",
       "      <td>0.262275</td>\n",
       "      <td>6.866667</td>\n",
       "      <td>1.0</td>\n",
       "      <td>0.0</td>\n",
       "      <td>2000.0</td>\n",
       "      <td>42.0</td>\n",
       "      <td>4</td>\n",
       "      <td>0</td>\n",
       "      <td>0</td>\n",
       "      <td>...</td>\n",
       "      <td>23</td>\n",
       "      <td>0.841814</td>\n",
       "      <td>0.008897</td>\n",
       "      <td>0.0</td>\n",
       "      <td>0</td>\n",
       "      <td>0</td>\n",
       "      <td>0</td>\n",
       "      <td>1</td>\n",
       "      <td>0</td>\n",
       "      <td>0</td>\n",
       "    </tr>\n",
       "    <tr>\n",
       "      <th>4</th>\n",
       "      <td>0.502008</td>\n",
       "      <td>0.052695</td>\n",
       "      <td>6.866667</td>\n",
       "      <td>2.0</td>\n",
       "      <td>0.0</td>\n",
       "      <td>2000.0</td>\n",
       "      <td>20.0</td>\n",
       "      <td>0</td>\n",
       "      <td>4</td>\n",
       "      <td>0</td>\n",
       "      <td>...</td>\n",
       "      <td>1</td>\n",
       "      <td>0.841814</td>\n",
       "      <td>0.008897</td>\n",
       "      <td>1.0</td>\n",
       "      <td>0</td>\n",
       "      <td>0</td>\n",
       "      <td>0</td>\n",
       "      <td>0</td>\n",
       "      <td>0</td>\n",
       "      <td>0</td>\n",
       "    </tr>\n",
       "    <tr>\n",
       "      <th>5</th>\n",
       "      <td>0.210843</td>\n",
       "      <td>0.039521</td>\n",
       "      <td>9.533333</td>\n",
       "      <td>3.0</td>\n",
       "      <td>0.0</td>\n",
       "      <td>2000.0</td>\n",
       "      <td>34.0</td>\n",
       "      <td>2</td>\n",
       "      <td>2</td>\n",
       "      <td>0</td>\n",
       "      <td>...</td>\n",
       "      <td>9</td>\n",
       "      <td>0.841814</td>\n",
       "      <td>0.008897</td>\n",
       "      <td>0.0</td>\n",
       "      <td>0</td>\n",
       "      <td>0</td>\n",
       "      <td>0</td>\n",
       "      <td>1</td>\n",
       "      <td>0</td>\n",
       "      <td>0</td>\n",
       "    </tr>\n",
       "  </tbody>\n",
       "</table>\n",
       "<p>5 rows × 21 columns</p>\n",
       "</div>"
      ],
      "text/plain": [
       "   location_x  location_y  remaining_min  power_of_shot  knockout_match  \\\n",
       "1    0.186747    0.052695      10.366667            1.0             0.0   \n",
       "2    0.299197    0.214371       7.750000            1.0             0.0   \n",
       "3    0.779116    0.262275       6.866667            1.0             0.0   \n",
       "4    0.502008    0.052695       6.866667            2.0             0.0   \n",
       "5    0.210843    0.039521       9.533333            3.0             0.0   \n",
       "\n",
       "   game_season  distance_of_shot  area_of_shot  range_of_shot  home/away  \\\n",
       "1       2000.0              35.0             2              2          0   \n",
       "2       2000.0              36.0             1              0          0   \n",
       "3       2000.0              42.0             4              0          0   \n",
       "4       2000.0              20.0             0              4          0   \n",
       "5       2000.0              34.0             2              2          0   \n",
       "\n",
       "       ...       type_of_shot  latitude  longitude  is_goal  Goal Line  \\\n",
       "1      ...                 40  0.841814   0.008897      0.0          0   \n",
       "2      ...                 18  0.841814   0.008897      1.0          0   \n",
       "3      ...                 23  0.841814   0.008897      0.0          0   \n",
       "4      ...                  1  0.841814   0.008897      1.0          0   \n",
       "5      ...                  9  0.841814   0.008897      0.0          0   \n",
       "\n",
       "   Left Corner  Mid Ground Line  Mid Range  Penalty Spot  Right Corner  \n",
       "1            0                0          1             0             0  \n",
       "2            0                0          1             0             0  \n",
       "3            0                0          1             0             0  \n",
       "4            0                0          0             0             0  \n",
       "5            0                0          1             0             0  \n",
       "\n",
       "[5 rows x 21 columns]"
      ]
     },
     "execution_count": 56,
     "metadata": {},
     "output_type": "execute_result"
    }
   ],
   "source": [
    "## drop all rows with is goal value is null, to run the machine learning algorithms\n",
    "data= data.dropna(subset=['is_goal'])\n",
    "data.head()"
   ]
  },
  {
   "cell_type": "code",
   "execution_count": 57,
   "metadata": {},
   "outputs": [
    {
     "data": {
      "text/html": [
       "<div>\n",
       "<style scoped>\n",
       "    .dataframe tbody tr th:only-of-type {\n",
       "        vertical-align: middle;\n",
       "    }\n",
       "\n",
       "    .dataframe tbody tr th {\n",
       "        vertical-align: top;\n",
       "    }\n",
       "\n",
       "    .dataframe thead th {\n",
       "        text-align: right;\n",
       "    }\n",
       "</style>\n",
       "<table border=\"1\" class=\"dataframe\">\n",
       "  <thead>\n",
       "    <tr style=\"text-align: right;\">\n",
       "      <th></th>\n",
       "      <th>location_x</th>\n",
       "      <th>location_y</th>\n",
       "      <th>remaining_min</th>\n",
       "      <th>power_of_shot</th>\n",
       "      <th>knockout_match</th>\n",
       "      <th>game_season</th>\n",
       "      <th>distance_of_shot</th>\n",
       "      <th>area_of_shot</th>\n",
       "      <th>range_of_shot</th>\n",
       "      <th>home/away</th>\n",
       "      <th>...</th>\n",
       "      <th>type_of_shot</th>\n",
       "      <th>latitude</th>\n",
       "      <th>longitude</th>\n",
       "      <th>is_goal</th>\n",
       "      <th>Goal Line</th>\n",
       "      <th>Left Corner</th>\n",
       "      <th>Mid Ground Line</th>\n",
       "      <th>Mid Range</th>\n",
       "      <th>Penalty Spot</th>\n",
       "      <th>Right Corner</th>\n",
       "    </tr>\n",
       "  </thead>\n",
       "  <tbody>\n",
       "    <tr>\n",
       "      <th>19613</th>\n",
       "      <td>0.514056</td>\n",
       "      <td>0.128144</td>\n",
       "      <td>9.566667</td>\n",
       "      <td>3.0</td>\n",
       "      <td>0.0</td>\n",
       "      <td>2012.0</td>\n",
       "      <td>26.0</td>\n",
       "      <td>0</td>\n",
       "      <td>4</td>\n",
       "      <td>0</td>\n",
       "      <td>...</td>\n",
       "      <td>7</td>\n",
       "      <td>0.544626</td>\n",
       "      <td>0.031860</td>\n",
       "      <td>0.0</td>\n",
       "      <td>1</td>\n",
       "      <td>0</td>\n",
       "      <td>0</td>\n",
       "      <td>0</td>\n",
       "      <td>0</td>\n",
       "      <td>0</td>\n",
       "    </tr>\n",
       "    <tr>\n",
       "      <th>8385</th>\n",
       "      <td>0.156627</td>\n",
       "      <td>0.263473</td>\n",
       "      <td>6.033333</td>\n",
       "      <td>3.0</td>\n",
       "      <td>0.0</td>\n",
       "      <td>2005.0</td>\n",
       "      <td>44.0</td>\n",
       "      <td>1</td>\n",
       "      <td>1</td>\n",
       "      <td>1</td>\n",
       "      <td>...</td>\n",
       "      <td>23</td>\n",
       "      <td>0.732851</td>\n",
       "      <td>0.992862</td>\n",
       "      <td>0.0</td>\n",
       "      <td>0</td>\n",
       "      <td>0</td>\n",
       "      <td>0</td>\n",
       "      <td>0</td>\n",
       "      <td>1</td>\n",
       "      <td>0</td>\n",
       "    </tr>\n",
       "    <tr>\n",
       "      <th>6990</th>\n",
       "      <td>0.425703</td>\n",
       "      <td>0.123353</td>\n",
       "      <td>4.916667</td>\n",
       "      <td>3.0</td>\n",
       "      <td>0.0</td>\n",
       "      <td>2004.0</td>\n",
       "      <td>27.0</td>\n",
       "      <td>0</td>\n",
       "      <td>4</td>\n",
       "      <td>1</td>\n",
       "      <td>...</td>\n",
       "      <td>23</td>\n",
       "      <td>0.732851</td>\n",
       "      <td>0.992862</td>\n",
       "      <td>0.0</td>\n",
       "      <td>1</td>\n",
       "      <td>0</td>\n",
       "      <td>0</td>\n",
       "      <td>0</td>\n",
       "      <td>0</td>\n",
       "      <td>0</td>\n",
       "    </tr>\n",
       "    <tr>\n",
       "      <th>18375</th>\n",
       "      <td>0.066265</td>\n",
       "      <td>0.231138</td>\n",
       "      <td>3.316667</td>\n",
       "      <td>2.0</td>\n",
       "      <td>0.0</td>\n",
       "      <td>2011.0</td>\n",
       "      <td>46.0</td>\n",
       "      <td>1</td>\n",
       "      <td>1</td>\n",
       "      <td>1</td>\n",
       "      <td>...</td>\n",
       "      <td>23</td>\n",
       "      <td>0.732851</td>\n",
       "      <td>0.992862</td>\n",
       "      <td>1.0</td>\n",
       "      <td>0</td>\n",
       "      <td>0</td>\n",
       "      <td>0</td>\n",
       "      <td>0</td>\n",
       "      <td>1</td>\n",
       "      <td>0</td>\n",
       "    </tr>\n",
       "    <tr>\n",
       "      <th>30259</th>\n",
       "      <td>0.612450</td>\n",
       "      <td>0.089820</td>\n",
       "      <td>9.100000</td>\n",
       "      <td>3.0</td>\n",
       "      <td>1.0</td>\n",
       "      <td>1999.0</td>\n",
       "      <td>26.0</td>\n",
       "      <td>0</td>\n",
       "      <td>4</td>\n",
       "      <td>0</td>\n",
       "      <td>...</td>\n",
       "      <td>52</td>\n",
       "      <td>0.155771</td>\n",
       "      <td>0.472531</td>\n",
       "      <td>0.0</td>\n",
       "      <td>1</td>\n",
       "      <td>0</td>\n",
       "      <td>0</td>\n",
       "      <td>0</td>\n",
       "      <td>0</td>\n",
       "      <td>0</td>\n",
       "    </tr>\n",
       "  </tbody>\n",
       "</table>\n",
       "<p>5 rows × 21 columns</p>\n",
       "</div>"
      ],
      "text/plain": [
       "       location_x  location_y  remaining_min  power_of_shot  knockout_match  \\\n",
       "19613    0.514056    0.128144       9.566667            3.0             0.0   \n",
       "8385     0.156627    0.263473       6.033333            3.0             0.0   \n",
       "6990     0.425703    0.123353       4.916667            3.0             0.0   \n",
       "18375    0.066265    0.231138       3.316667            2.0             0.0   \n",
       "30259    0.612450    0.089820       9.100000            3.0             1.0   \n",
       "\n",
       "       game_season  distance_of_shot  area_of_shot  range_of_shot  home/away  \\\n",
       "19613       2012.0              26.0             0              4          0   \n",
       "8385        2005.0              44.0             1              1          1   \n",
       "6990        2004.0              27.0             0              4          1   \n",
       "18375       2011.0              46.0             1              1          1   \n",
       "30259       1999.0              26.0             0              4          0   \n",
       "\n",
       "           ...       type_of_shot  latitude  longitude  is_goal  Goal Line  \\\n",
       "19613      ...                  7  0.544626   0.031860      0.0          1   \n",
       "8385       ...                 23  0.732851   0.992862      0.0          0   \n",
       "6990       ...                 23  0.732851   0.992862      0.0          1   \n",
       "18375      ...                 23  0.732851   0.992862      1.0          0   \n",
       "30259      ...                 52  0.155771   0.472531      0.0          1   \n",
       "\n",
       "       Left Corner  Mid Ground Line  Mid Range  Penalty Spot  Right Corner  \n",
       "19613            0                0          0             0             0  \n",
       "8385             0                0          0             1             0  \n",
       "6990             0                0          0             0             0  \n",
       "18375            0                0          0             1             0  \n",
       "30259            0                0          0             0             0  \n",
       "\n",
       "[5 rows x 21 columns]"
      ]
     },
     "execution_count": 57,
     "metadata": {},
     "output_type": "execute_result"
    }
   ],
   "source": [
    "from sklearn.model_selection import train_test_split\n",
    "\n",
    "# We specify this so that the train and test data set always have the same rows, respectively\n",
    "np.random.seed(0)\n",
    "df_train, df_test = train_test_split(data, train_size = 0.7, test_size = 0.3, random_state = 100)\n",
    "df_train.head()"
   ]
  },
  {
   "cell_type": "code",
   "execution_count": 58,
   "metadata": {},
   "outputs": [],
   "source": [
    "y_train = df_train.pop('is_goal')\n",
    "X_train = df_train\n",
    "\n",
    "X_test= df_test.drop('is_goal', axis=1)\n",
    "y_test= df_test['is_goal']"
   ]
  },
  {
   "cell_type": "code",
   "execution_count": 59,
   "metadata": {},
   "outputs": [
    {
     "data": {
      "text/plain": [
       "DecisionTreeRegressor(criterion='mse', max_depth=None, max_features=None,\n",
       "                      max_leaf_nodes=None, min_impurity_decrease=0.0,\n",
       "                      min_impurity_split=None, min_samples_leaf=1,\n",
       "                      min_samples_split=2, min_weight_fraction_leaf=0.0,\n",
       "                      presort=False, random_state=None, splitter='best')"
      ]
     },
     "execution_count": 59,
     "metadata": {},
     "output_type": "execute_result"
    }
   ],
   "source": [
    "from sklearn.tree import DecisionTreeRegressor\n",
    "\n",
    "# Define model\n",
    "dtr_model = DecisionTreeRegressor()\n",
    "\n",
    "# Fit model\n",
    "dtr_model.fit(X_train, y_train)"
   ]
  },
  {
   "cell_type": "code",
   "execution_count": 60,
   "metadata": {},
   "outputs": [
    {
     "name": "stdout",
     "output_type": "stream",
     "text": [
      "       location_x  location_y  remaining_min  power_of_shot  knockout_match  \\\n",
      "19613    0.514056    0.128144       9.566667            3.0             0.0   \n",
      "8385     0.156627    0.263473       6.033333            3.0             0.0   \n",
      "6990     0.425703    0.123353       4.916667            3.0             0.0   \n",
      "18375    0.066265    0.231138       3.316667            2.0             0.0   \n",
      "30259    0.612450    0.089820       9.100000            3.0             1.0   \n",
      "\n",
      "       game_season  distance_of_shot  area_of_shot  range_of_shot  home/away  \\\n",
      "19613       2012.0              26.0             0              4          0   \n",
      "8385        2005.0              44.0             1              1          1   \n",
      "6990        2004.0              27.0             0              4          1   \n",
      "18375       2011.0              46.0             1              1          1   \n",
      "30259       1999.0              26.0             0              4          0   \n",
      "\n",
      "       shot_id_number  type_of_shot  latitude  longitude  Goal Line  \\\n",
      "19613         19614.0             7  0.544626   0.031860          1   \n",
      "8385           8386.0            23  0.732851   0.992862          0   \n",
      "6990           6991.0            23  0.732851   0.992862          1   \n",
      "18375         18376.0            23  0.732851   0.992862          0   \n",
      "30259         30260.0            52  0.155771   0.472531          1   \n",
      "\n",
      "       Left Corner  Mid Ground Line  Mid Range  Penalty Spot  Right Corner  \n",
      "19613            0                0          0             0             0  \n",
      "8385             0                0          0             1             0  \n",
      "6990             0                0          0             0             0  \n",
      "18375            0                0          0             1             0  \n",
      "30259            0                0          0             0             0  \n",
      "The predictions are\n",
      "[0. 0. 0. 1. 0.]\n"
     ]
    }
   ],
   "source": [
    "print(X_train.head())\n",
    "print(\"The predictions are\")\n",
    "print(dtr_model.predict(X_train.head()))"
   ]
  },
  {
   "cell_type": "code",
   "execution_count": 61,
   "metadata": {},
   "outputs": [
    {
     "name": "stdout",
     "output_type": "stream",
     "text": [
      "TRAINING SET\n",
      "============\n",
      "MAE:                 0.0\n",
      "RMSE:                0.0\n",
      "r2:                  1.0\n",
      "feature_importances: [0.11903245 0.11672655 0.17469509 0.04259525 0.00551363 0.0694604\n",
      " 0.08293208 0.01678861 0.01461576 0.00708687 0.16121597 0.08093457\n",
      " 0.0489075  0.04650743 0.00397164 0.00022164 0.00024935 0.00481439\n",
      " 0.0030923  0.00063853]\n",
      "n_features:          20\n",
      "n_outputs:           1\n"
     ]
    }
   ],
   "source": [
    "from sklearn.metrics import mean_absolute_error\n",
    "import sklearn.metrics as metrics\n",
    "import math\n",
    "\n",
    "# Show model results of training set\n",
    "y_hat = dtr_model.predict(X_train)\n",
    "mae = metrics.mean_absolute_error(y_train,y_hat)\n",
    "mse = metrics.mean_squared_error(y_train,y_hat)\n",
    "print (\"TRAINING SET\")\n",
    "print (\"============\")\n",
    "print (\"MAE:                \", mae)\n",
    "print (\"RMSE:               \", math.sqrt(mse))\n",
    "print (\"r2:                 \", dtr_model.score(X_train,y_train))\n",
    "print (\"feature_importances:\",dtr_model.feature_importances_)\n",
    "print (\"n_features:         \",dtr_model.n_features_)\n",
    "print (\"n_outputs:          \",dtr_model.n_outputs_)"
   ]
  },
  {
   "cell_type": "code",
   "execution_count": 62,
   "metadata": {},
   "outputs": [
    {
     "name": "stdout",
     "output_type": "stream",
     "text": [
      "TEST SET\n",
      "========\n",
      "MAE:                 0.44017831463905666\n",
      "RMSE:                0.6634593541725496\n",
      "r2:                  -0.7844479310786531\n"
     ]
    }
   ],
   "source": [
    "### running the alogrithms on test data.\n",
    "y_hat = dtr_model.predict(X_test)\n",
    "mae = metrics.mean_absolute_error(y_test,y_hat)\n",
    "mse = metrics.mean_squared_error(y_test,y_hat)\n",
    "print (\"TEST SET\")\n",
    "print (\"========\")\n",
    "print (\"MAE:                \", mae)\n",
    "print (\"RMSE:               \", math.sqrt(mse))\n",
    "print (\"r2:                 \", dtr_model.score(X_test,y_test))"
   ]
  },
  {
   "cell_type": "markdown",
   "metadata": {},
   "source": [
    "### As per above data..considering the r2 is negative..running random forest to check the improvements, if any."
   ]
  },
  {
   "cell_type": "code",
   "execution_count": 63,
   "metadata": {},
   "outputs": [],
   "source": [
    "# Importing random forest classifier from sklearn library\n",
    "from sklearn.ensemble import RandomForestClassifier\n",
    "\n",
    "# Running the random forest with default parameters.\n",
    "rfc = RandomForestClassifier()"
   ]
  },
  {
   "cell_type": "code",
   "execution_count": 64,
   "metadata": {},
   "outputs": [],
   "source": [
    "# fit\n",
    "rfc.fit(X_train,y_train)\n",
    "# Making predictions\n",
    "predictions = rfc.predict(X_test)"
   ]
  },
  {
   "cell_type": "code",
   "execution_count": 65,
   "metadata": {},
   "outputs": [
    {
     "name": "stdout",
     "output_type": "stream",
     "text": [
      "              precision    recall  f1-score   support\n",
      "\n",
      "         0.0       0.60      0.77      0.68      3878\n",
      "         1.0       0.55      0.37      0.44      3076\n",
      "\n",
      "    accuracy                           0.59      6954\n",
      "   macro avg       0.58      0.57      0.56      6954\n",
      "weighted avg       0.58      0.59      0.57      6954\n",
      "\n"
     ]
    }
   ],
   "source": [
    "# Importing classification report and confusion matrix from sklearn metrics\n",
    "from sklearn.metrics import classification_report,confusion_matrix, accuracy_score\n",
    "# Let's check the report of our default model\n",
    "print(classification_report(y_test,predictions))"
   ]
  },
  {
   "cell_type": "code",
   "execution_count": 66,
   "metadata": {},
   "outputs": [
    {
     "name": "stdout",
     "output_type": "stream",
     "text": [
      "[[2967  911]\n",
      " [1942 1134]]\n"
     ]
    }
   ],
   "source": [
    "# Printing confusion matrix\n",
    "print(confusion_matrix(y_test,predictions))"
   ]
  },
  {
   "cell_type": "code",
   "execution_count": 67,
   "metadata": {},
   "outputs": [
    {
     "name": "stdout",
     "output_type": "stream",
     "text": [
      "0.589732528041415\n"
     ]
    }
   ],
   "source": [
    "print(accuracy_score(y_test,predictions))"
   ]
  },
  {
   "cell_type": "markdown",
   "metadata": {},
   "source": [
    "### accuracy is low, running K-Fold"
   ]
  },
  {
   "cell_type": "code",
   "execution_count": 68,
   "metadata": {},
   "outputs": [
    {
     "data": {
      "text/plain": [
       "GridSearchCV(cv=5, error_score='raise-deprecating',\n",
       "             estimator=RandomForestClassifier(bootstrap=True, class_weight=None,\n",
       "                                              criterion='gini', max_depth=None,\n",
       "                                              max_features='auto',\n",
       "                                              max_leaf_nodes=None,\n",
       "                                              min_impurity_decrease=0.0,\n",
       "                                              min_impurity_split=None,\n",
       "                                              min_samples_leaf=1,\n",
       "                                              min_samples_split=2,\n",
       "                                              min_weight_fraction_leaf=0.0,\n",
       "                                              n_estimators='warn', n_jobs=None,\n",
       "                                              oob_score=False,\n",
       "                                              random_state=None, verbose=0,\n",
       "                                              warm_start=False),\n",
       "             iid='warn', n_jobs=None, param_grid={'max_depth': range(2, 20, 5)},\n",
       "             pre_dispatch='2*n_jobs', refit=True, return_train_score=False,\n",
       "             scoring='accuracy', verbose=0)"
      ]
     },
     "execution_count": 68,
     "metadata": {},
     "output_type": "execute_result"
    }
   ],
   "source": [
    "# GridSearchCV to find optimal n_estimators\n",
    "from sklearn.model_selection import KFold\n",
    "from sklearn.model_selection import GridSearchCV\n",
    "\n",
    "\n",
    "# specify number of folds for k-fold CV\n",
    "n_folds = 5\n",
    "\n",
    "# parameters to build the model on\n",
    "parameters = {'max_depth': range(2, 20, 5)}\n",
    "\n",
    "# instantiate the model\n",
    "rf = RandomForestClassifier()\n",
    "\n",
    "\n",
    "# fit tree on training data\n",
    "rf = GridSearchCV(rf, parameters, \n",
    "                    cv=n_folds, \n",
    "                   scoring=\"accuracy\")\n",
    "rf.fit(X_train, y_train)"
   ]
  },
  {
   "cell_type": "code",
   "execution_count": 69,
   "metadata": {},
   "outputs": [
    {
     "data": {
      "text/html": [
       "<div>\n",
       "<style scoped>\n",
       "    .dataframe tbody tr th:only-of-type {\n",
       "        vertical-align: middle;\n",
       "    }\n",
       "\n",
       "    .dataframe tbody tr th {\n",
       "        vertical-align: top;\n",
       "    }\n",
       "\n",
       "    .dataframe thead th {\n",
       "        text-align: right;\n",
       "    }\n",
       "</style>\n",
       "<table border=\"1\" class=\"dataframe\">\n",
       "  <thead>\n",
       "    <tr style=\"text-align: right;\">\n",
       "      <th></th>\n",
       "      <th>mean_fit_time</th>\n",
       "      <th>mean_score_time</th>\n",
       "      <th>mean_test_score</th>\n",
       "      <th>param_max_depth</th>\n",
       "      <th>params</th>\n",
       "      <th>rank_test_score</th>\n",
       "      <th>split0_test_score</th>\n",
       "      <th>split1_test_score</th>\n",
       "      <th>split2_test_score</th>\n",
       "      <th>split3_test_score</th>\n",
       "      <th>split4_test_score</th>\n",
       "      <th>std_fit_time</th>\n",
       "      <th>std_score_time</th>\n",
       "      <th>std_test_score</th>\n",
       "    </tr>\n",
       "  </thead>\n",
       "  <tbody>\n",
       "    <tr>\n",
       "      <th>0</th>\n",
       "      <td>0.036498</td>\n",
       "      <td>0.003595</td>\n",
       "      <td>0.608136</td>\n",
       "      <td>2</td>\n",
       "      <td>{'max_depth': 2}</td>\n",
       "      <td>2</td>\n",
       "      <td>0.613678</td>\n",
       "      <td>0.608320</td>\n",
       "      <td>0.607704</td>\n",
       "      <td>0.609245</td>\n",
       "      <td>0.601726</td>\n",
       "      <td>0.000796</td>\n",
       "      <td>0.000492</td>\n",
       "      <td>0.003828</td>\n",
       "    </tr>\n",
       "    <tr>\n",
       "      <th>1</th>\n",
       "      <td>0.072605</td>\n",
       "      <td>0.004189</td>\n",
       "      <td>0.609615</td>\n",
       "      <td>7</td>\n",
       "      <td>{'max_depth': 7}</td>\n",
       "      <td>1</td>\n",
       "      <td>0.612754</td>\n",
       "      <td>0.608012</td>\n",
       "      <td>0.607704</td>\n",
       "      <td>0.615716</td>\n",
       "      <td>0.603884</td>\n",
       "      <td>0.001323</td>\n",
       "      <td>0.000399</td>\n",
       "      <td>0.004151</td>\n",
       "    </tr>\n",
       "    <tr>\n",
       "      <th>2</th>\n",
       "      <td>0.106914</td>\n",
       "      <td>0.005186</td>\n",
       "      <td>0.602342</td>\n",
       "      <td>12</td>\n",
       "      <td>{'max_depth': 12}</td>\n",
       "      <td>3</td>\n",
       "      <td>0.611830</td>\n",
       "      <td>0.600616</td>\n",
       "      <td>0.596610</td>\n",
       "      <td>0.609553</td>\n",
       "      <td>0.593095</td>\n",
       "      <td>0.003420</td>\n",
       "      <td>0.000399</td>\n",
       "      <td>0.007258</td>\n",
       "    </tr>\n",
       "    <tr>\n",
       "      <th>3</th>\n",
       "      <td>0.134456</td>\n",
       "      <td>0.006582</td>\n",
       "      <td>0.592173</td>\n",
       "      <td>17</td>\n",
       "      <td>{'max_depth': 17}</td>\n",
       "      <td>4</td>\n",
       "      <td>0.597043</td>\n",
       "      <td>0.590447</td>\n",
       "      <td>0.591371</td>\n",
       "      <td>0.594145</td>\n",
       "      <td>0.587855</td>\n",
       "      <td>0.003308</td>\n",
       "      <td>0.000489</td>\n",
       "      <td>0.003158</td>\n",
       "    </tr>\n",
       "  </tbody>\n",
       "</table>\n",
       "</div>"
      ],
      "text/plain": [
       "   mean_fit_time  mean_score_time  mean_test_score param_max_depth  \\\n",
       "0       0.036498         0.003595         0.608136               2   \n",
       "1       0.072605         0.004189         0.609615               7   \n",
       "2       0.106914         0.005186         0.602342              12   \n",
       "3       0.134456         0.006582         0.592173              17   \n",
       "\n",
       "              params  rank_test_score  split0_test_score  split1_test_score  \\\n",
       "0   {'max_depth': 2}                2           0.613678           0.608320   \n",
       "1   {'max_depth': 7}                1           0.612754           0.608012   \n",
       "2  {'max_depth': 12}                3           0.611830           0.600616   \n",
       "3  {'max_depth': 17}                4           0.597043           0.590447   \n",
       "\n",
       "   split2_test_score  split3_test_score  split4_test_score  std_fit_time  \\\n",
       "0           0.607704           0.609245           0.601726      0.000796   \n",
       "1           0.607704           0.615716           0.603884      0.001323   \n",
       "2           0.596610           0.609553           0.593095      0.003420   \n",
       "3           0.591371           0.594145           0.587855      0.003308   \n",
       "\n",
       "   std_score_time  std_test_score  \n",
       "0        0.000492        0.003828  \n",
       "1        0.000399        0.004151  \n",
       "2        0.000399        0.007258  \n",
       "3        0.000489        0.003158  "
      ]
     },
     "execution_count": 69,
     "metadata": {},
     "output_type": "execute_result"
    }
   ],
   "source": [
    "# scores of GridSearch CV\n",
    "scores = rf.cv_results_\n",
    "pd.DataFrame(scores).head()"
   ]
  },
  {
   "cell_type": "markdown",
   "metadata": {},
   "source": [
    "You can see that as we increase the value of max_depth, both train and test scores increase till a point, but after that test score starts to decrease. The ensemble tries to overfit as we increase the max_depth.\n",
    "\n",
    "Thus, controlling the depth of the constituent trees will help reduce overfitting in the forest."
   ]
  },
  {
   "cell_type": "code",
   "execution_count": 70,
   "metadata": {},
   "outputs": [
    {
     "data": {
      "text/plain": [
       "GridSearchCV(cv=5, error_score='raise-deprecating',\n",
       "             estimator=RandomForestClassifier(bootstrap=True, class_weight=None,\n",
       "                                              criterion='gini', max_depth=4,\n",
       "                                              max_features='auto',\n",
       "                                              max_leaf_nodes=None,\n",
       "                                              min_impurity_decrease=0.0,\n",
       "                                              min_impurity_split=None,\n",
       "                                              min_samples_leaf=1,\n",
       "                                              min_samples_split=2,\n",
       "                                              min_weight_fraction_leaf=0.0,\n",
       "                                              n_estimators='warn', n_jobs=None,\n",
       "                                              oob_score=False,\n",
       "                                              random_state=None, verbose=0,\n",
       "                                              warm_start=False),\n",
       "             iid='warn', n_jobs=None,\n",
       "             param_grid={'n_estimators': range(100, 1500, 400)},\n",
       "             pre_dispatch='2*n_jobs', refit=True, return_train_score=False,\n",
       "             scoring='accuracy', verbose=0)"
      ]
     },
     "execution_count": 70,
     "metadata": {},
     "output_type": "execute_result"
    }
   ],
   "source": [
    "# GridSearchCV to find optimal n_estimators\n",
    "from sklearn.model_selection import KFold\n",
    "from sklearn.model_selection import GridSearchCV\n",
    "\n",
    "\n",
    "# specify number of folds for k-fold CV\n",
    "n_folds = 5\n",
    "\n",
    "# parameters to build the model on\n",
    "parameters = {'n_estimators': range(100, 1500, 400)}\n",
    "\n",
    "# instantiate the model (note we are specifying a max_depth)\n",
    "rf = RandomForestClassifier(max_depth=4)\n",
    "\n",
    "\n",
    "# fit tree on training data\n",
    "rf = GridSearchCV(rf, parameters, \n",
    "                    cv=n_folds, \n",
    "                   scoring=\"accuracy\")\n",
    "rf.fit(X_train, y_train)"
   ]
  },
  {
   "cell_type": "code",
   "execution_count": 71,
   "metadata": {},
   "outputs": [
    {
     "data": {
      "text/html": [
       "<div>\n",
       "<style scoped>\n",
       "    .dataframe tbody tr th:only-of-type {\n",
       "        vertical-align: middle;\n",
       "    }\n",
       "\n",
       "    .dataframe tbody tr th {\n",
       "        vertical-align: top;\n",
       "    }\n",
       "\n",
       "    .dataframe thead th {\n",
       "        text-align: right;\n",
       "    }\n",
       "</style>\n",
       "<table border=\"1\" class=\"dataframe\">\n",
       "  <thead>\n",
       "    <tr style=\"text-align: right;\">\n",
       "      <th></th>\n",
       "      <th>mean_fit_time</th>\n",
       "      <th>mean_score_time</th>\n",
       "      <th>mean_test_score</th>\n",
       "      <th>param_n_estimators</th>\n",
       "      <th>params</th>\n",
       "      <th>rank_test_score</th>\n",
       "      <th>split0_test_score</th>\n",
       "      <th>split1_test_score</th>\n",
       "      <th>split2_test_score</th>\n",
       "      <th>split3_test_score</th>\n",
       "      <th>split4_test_score</th>\n",
       "      <th>std_fit_time</th>\n",
       "      <th>std_score_time</th>\n",
       "      <th>std_test_score</th>\n",
       "    </tr>\n",
       "  </thead>\n",
       "  <tbody>\n",
       "    <tr>\n",
       "      <th>0</th>\n",
       "      <td>0.469722</td>\n",
       "      <td>0.023391</td>\n",
       "      <td>0.609122</td>\n",
       "      <td>100</td>\n",
       "      <td>{'n_estimators': 100}</td>\n",
       "      <td>3</td>\n",
       "      <td>0.612754</td>\n",
       "      <td>0.610786</td>\n",
       "      <td>0.609553</td>\n",
       "      <td>0.609861</td>\n",
       "      <td>0.602651</td>\n",
       "      <td>0.040016</td>\n",
       "      <td>0.002163</td>\n",
       "      <td>0.003422</td>\n",
       "    </tr>\n",
       "    <tr>\n",
       "      <th>1</th>\n",
       "      <td>2.220710</td>\n",
       "      <td>0.122019</td>\n",
       "      <td>0.609307</td>\n",
       "      <td>500</td>\n",
       "      <td>{'n_estimators': 500}</td>\n",
       "      <td>2</td>\n",
       "      <td>0.612446</td>\n",
       "      <td>0.610478</td>\n",
       "      <td>0.610169</td>\n",
       "      <td>0.609861</td>\n",
       "      <td>0.603576</td>\n",
       "      <td>0.135957</td>\n",
       "      <td>0.019321</td>\n",
       "      <td>0.003004</td>\n",
       "    </tr>\n",
       "    <tr>\n",
       "      <th>2</th>\n",
       "      <td>4.826449</td>\n",
       "      <td>0.206211</td>\n",
       "      <td>0.609492</td>\n",
       "      <td>900</td>\n",
       "      <td>{'n_estimators': 900}</td>\n",
       "      <td>1</td>\n",
       "      <td>0.611830</td>\n",
       "      <td>0.610786</td>\n",
       "      <td>0.610478</td>\n",
       "      <td>0.610786</td>\n",
       "      <td>0.603576</td>\n",
       "      <td>0.982233</td>\n",
       "      <td>0.028863</td>\n",
       "      <td>0.002993</td>\n",
       "    </tr>\n",
       "    <tr>\n",
       "      <th>3</th>\n",
       "      <td>6.436811</td>\n",
       "      <td>0.298842</td>\n",
       "      <td>0.608875</td>\n",
       "      <td>1300</td>\n",
       "      <td>{'n_estimators': 1300}</td>\n",
       "      <td>4</td>\n",
       "      <td>0.612138</td>\n",
       "      <td>0.610169</td>\n",
       "      <td>0.609861</td>\n",
       "      <td>0.610169</td>\n",
       "      <td>0.602035</td>\n",
       "      <td>0.339325</td>\n",
       "      <td>0.031842</td>\n",
       "      <td>0.003514</td>\n",
       "    </tr>\n",
       "  </tbody>\n",
       "</table>\n",
       "</div>"
      ],
      "text/plain": [
       "   mean_fit_time  mean_score_time  mean_test_score param_n_estimators  \\\n",
       "0       0.469722         0.023391         0.609122                100   \n",
       "1       2.220710         0.122019         0.609307                500   \n",
       "2       4.826449         0.206211         0.609492                900   \n",
       "3       6.436811         0.298842         0.608875               1300   \n",
       "\n",
       "                   params  rank_test_score  split0_test_score  \\\n",
       "0   {'n_estimators': 100}                3           0.612754   \n",
       "1   {'n_estimators': 500}                2           0.612446   \n",
       "2   {'n_estimators': 900}                1           0.611830   \n",
       "3  {'n_estimators': 1300}                4           0.612138   \n",
       "\n",
       "   split1_test_score  split2_test_score  split3_test_score  split4_test_score  \\\n",
       "0           0.610786           0.609553           0.609861           0.602651   \n",
       "1           0.610478           0.610169           0.609861           0.603576   \n",
       "2           0.610786           0.610478           0.610786           0.603576   \n",
       "3           0.610169           0.609861           0.610169           0.602035   \n",
       "\n",
       "   std_fit_time  std_score_time  std_test_score  \n",
       "0      0.040016        0.002163        0.003422  \n",
       "1      0.135957        0.019321        0.003004  \n",
       "2      0.982233        0.028863        0.002993  \n",
       "3      0.339325        0.031842        0.003514  "
      ]
     },
     "execution_count": 71,
     "metadata": {},
     "output_type": "execute_result"
    }
   ],
   "source": [
    "# scores of GridSearch CV\n",
    "scores = rf.cv_results_\n",
    "pd.DataFrame(scores).head()"
   ]
  },
  {
   "cell_type": "code",
   "execution_count": 72,
   "metadata": {},
   "outputs": [
    {
     "ename": "KeyError",
     "evalue": "'mean_train_score'",
     "output_type": "error",
     "traceback": [
      "\u001b[1;31m---------------------------------------------------------------------------\u001b[0m",
      "\u001b[1;31mKeyError\u001b[0m                                  Traceback (most recent call last)",
      "\u001b[1;32m<ipython-input-72-2ebe477f290a>\u001b[0m in \u001b[0;36m<module>\u001b[1;34m()\u001b[0m\n\u001b[0;32m      2\u001b[0m \u001b[0mplt\u001b[0m\u001b[1;33m.\u001b[0m\u001b[0mfigure\u001b[0m\u001b[1;33m(\u001b[0m\u001b[1;33m)\u001b[0m\u001b[1;33m\u001b[0m\u001b[0m\n\u001b[0;32m      3\u001b[0m plt.plot(scores[\"param_n_estimators\"], \n\u001b[1;32m----> 4\u001b[1;33m          \u001b[0mscores\u001b[0m\u001b[1;33m[\u001b[0m\u001b[1;34m\"mean_train_score\"\u001b[0m\u001b[1;33m]\u001b[0m\u001b[1;33m,\u001b[0m\u001b[1;33m\u001b[0m\u001b[0m\n\u001b[0m\u001b[0;32m      5\u001b[0m          label=\"training accuracy\")\n\u001b[0;32m      6\u001b[0m plt.plot(scores[\"param_n_estimators\"], \n",
      "\u001b[1;31mKeyError\u001b[0m: 'mean_train_score'"
     ]
    },
    {
     "data": {
      "text/plain": [
       "<Figure size 432x288 with 0 Axes>"
      ]
     },
     "metadata": {},
     "output_type": "display_data"
    }
   ],
   "source": [
    "# plotting accuracies with n_estimators\n",
    "plt.figure()\n",
    "plt.plot(scores[\"param_n_estimators\"], \n",
    "         scores[\"mean_train_score\"], \n",
    "         label=\"training accuracy\")\n",
    "plt.plot(scores[\"param_n_estimators\"], \n",
    "         scores[\"mean_test_score\"], \n",
    "         label=\"test accuracy\")\n",
    "plt.xlabel(\"n_estimators\")\n",
    "plt.ylabel(\"Accuracy\")\n",
    "plt.legend()\n",
    "plt.show()\n"
   ]
  },
  {
   "cell_type": "code",
   "execution_count": null,
   "metadata": {},
   "outputs": [],
   "source": [
    "# GridSearchCV to find optimal max_features\n",
    "from sklearn.model_selection import KFold\n",
    "from sklearn.model_selection import GridSearchCV\n",
    "\n",
    "\n",
    "# specify number of folds for k-fold CV\n",
    "n_folds = 5\n",
    "\n",
    "# parameters to build the model on\n",
    "parameters = {'max_features': [4, 8, 14, 20]}\n",
    "\n",
    "# instantiate the model\n",
    "rf = RandomForestClassifier(max_depth=4)\n",
    "\n",
    "\n",
    "# fit tree on training data\n",
    "rf = GridSearchCV(rf, parameters, \n",
    "                    cv=n_folds, \n",
    "                   scoring=\"accuracy\")\n",
    "rf.fit(X_train, y_train)"
   ]
  },
  {
   "cell_type": "code",
   "execution_count": null,
   "metadata": {},
   "outputs": [],
   "source": [
    "# scores of GridSearch CV\n",
    "scores = rf.cv_results_\n",
    "pd.DataFrame(scores).head()"
   ]
  },
  {
   "cell_type": "code",
   "execution_count": null,
   "metadata": {},
   "outputs": [],
   "source": [
    "# plotting accuracies with max_features\n",
    "plt.figure()\n",
    "plt.plot(scores[\"param_max_features\"], \n",
    "         scores[\"mean_train_score\"], \n",
    "         label=\"training accuracy\")\n",
    "plt.plot(scores[\"param_max_features\"], \n",
    "         scores[\"mean_test_score\"], \n",
    "         label=\"test accuracy\")\n",
    "plt.xlabel(\"max_features\")\n",
    "plt.ylabel(\"Accuracy\")\n",
    "plt.legend()\n",
    "plt.show()\n"
   ]
  },
  {
   "cell_type": "code",
   "execution_count": null,
   "metadata": {},
   "outputs": [],
   "source": [
    "# GridSearchCV to find optimal min_samples_leaf\n",
    "from sklearn.model_selection import KFold\n",
    "from sklearn.model_selection import GridSearchCV\n",
    "\n",
    "\n",
    "# specify number of folds for k-fold CV\n",
    "n_folds = 5\n",
    "\n",
    "# parameters to build the model on\n",
    "parameters = {'min_samples_leaf': range(100, 400, 50)}\n",
    "\n",
    "# instantiate the model\n",
    "rf = RandomForestClassifier()\n",
    "\n",
    "\n",
    "# fit tree on training data\n",
    "rf = GridSearchCV(rf, parameters, \n",
    "                    cv=n_folds, \n",
    "                   scoring=\"accuracy\")\n",
    "rf.fit(X_train, y_train)"
   ]
  },
  {
   "cell_type": "code",
   "execution_count": null,
   "metadata": {},
   "outputs": [],
   "source": [
    "# scores of GridSearch CV\n",
    "scores = rf.cv_results_\n",
    "pd.DataFrame(scores).head()"
   ]
  },
  {
   "cell_type": "code",
   "execution_count": null,
   "metadata": {},
   "outputs": [],
   "source": [
    "# plotting accuracies with min_samples_leaf\n",
    "plt.figure()\n",
    "plt.plot(scores[\"param_min_samples_leaf\"], \n",
    "         scores[\"mean_train_score\"], \n",
    "         label=\"training accuracy\")\n",
    "plt.plot(scores[\"param_min_samples_leaf\"], \n",
    "         scores[\"mean_test_score\"], \n",
    "         label=\"test accuracy\")\n",
    "plt.xlabel(\"min_samples_leaf\")\n",
    "plt.ylabel(\"Accuracy\")\n",
    "plt.legend()\n",
    "plt.show()"
   ]
  },
  {
   "cell_type": "code",
   "execution_count": null,
   "metadata": {},
   "outputs": [],
   "source": [
    "# GridSearchCV to find optimal min_samples_split\n",
    "from sklearn.model_selection import KFold\n",
    "from sklearn.model_selection import GridSearchCV\n",
    "\n",
    "\n",
    "# specify number of folds for k-fold CV\n",
    "n_folds = 5\n",
    "\n",
    "# parameters to build the model on\n",
    "parameters = {'min_samples_split': range(200, 500, 50)}\n",
    "\n",
    "# instantiate the model\n",
    "rf = RandomForestClassifier()\n",
    "\n",
    "\n",
    "# fit tree on training data\n",
    "rf = GridSearchCV(rf, parameters, \n",
    "                    cv=n_folds, \n",
    "                   scoring=\"accuracy\")\n",
    "rf.fit(X_train, y_train)"
   ]
  },
  {
   "cell_type": "code",
   "execution_count": null,
   "metadata": {},
   "outputs": [],
   "source": [
    "# scores of GridSearch CV\n",
    "scores = rf.cv_results_\n",
    "pd.DataFrame(scores).head()"
   ]
  },
  {
   "cell_type": "code",
   "execution_count": null,
   "metadata": {},
   "outputs": [],
   "source": [
    "# plotting accuracies with min_samples_split\n",
    "plt.figure()\n",
    "plt.plot(scores[\"param_min_samples_split\"], \n",
    "         scores[\"mean_train_score\"], \n",
    "         label=\"training accuracy\")\n",
    "plt.plot(scores[\"param_min_samples_split\"], \n",
    "         scores[\"mean_test_score\"], \n",
    "         label=\"test accuracy\")\n",
    "plt.xlabel(\"min_samples_split\")\n",
    "plt.ylabel(\"Accuracy\")\n",
    "plt.legend()\n",
    "plt.show()"
   ]
  },
  {
   "cell_type": "code",
   "execution_count": null,
   "metadata": {},
   "outputs": [],
   "source": [
    "# Create the parameter grid based on the results of random search \n",
    "param_grid = {\n",
    "    'max_depth': [4,8,10],\n",
    "    'min_samples_leaf': range(100, 400, 200),\n",
    "    'min_samples_split': range(200, 500, 200),\n",
    "    'n_estimators': [100,200, 300], \n",
    "    'max_features': [5, 10]\n",
    "}\n",
    "# Create a based model\n",
    "rf = RandomForestClassifier()\n",
    "# Instantiate the grid search model\n",
    "grid_search = GridSearchCV(estimator = rf, param_grid = param_grid, \n",
    "                          cv = 3, n_jobs = -1,verbose = 1)"
   ]
  },
  {
   "cell_type": "code",
   "execution_count": null,
   "metadata": {},
   "outputs": [],
   "source": [
    "# Fit the grid search to the data\n",
    "grid_search.fit(X_train, y_train)"
   ]
  },
  {
   "cell_type": "code",
   "execution_count": null,
   "metadata": {},
   "outputs": [],
   "source": [
    "# printing the optimal accuracy score and hyperparameters\n",
    "print('We can get accuracy of',grid_search.best_score_,'using',grid_search.best_params_)"
   ]
  },
  {
   "cell_type": "code",
   "execution_count": null,
   "metadata": {},
   "outputs": [],
   "source": [
    "# model with the best hyperparameters\n",
    "from sklearn.ensemble import RandomForestClassifier\n",
    "rfc = RandomForestClassifier(bootstrap=True,\n",
    "                             max_depth=10,\n",
    "                             min_samples_leaf=100, \n",
    "                             min_samples_split=200,\n",
    "                             max_features=10,\n",
    "                             n_estimators=300)"
   ]
  },
  {
   "cell_type": "code",
   "execution_count": null,
   "metadata": {},
   "outputs": [],
   "source": [
    "# fit\n",
    "rfc.fit(X_train,y_train)"
   ]
  },
  {
   "cell_type": "code",
   "execution_count": null,
   "metadata": {},
   "outputs": [],
   "source": [
    "# predict\n",
    "predictions = rfc.predict(X_test)"
   ]
  },
  {
   "cell_type": "code",
   "execution_count": null,
   "metadata": {},
   "outputs": [],
   "source": [
    "# evaluation metrics\n",
    "from sklearn.metrics import classification_report,confusion_matrix\n",
    "print(classification_report(y_test,predictions))"
   ]
  },
  {
   "cell_type": "code",
   "execution_count": null,
   "metadata": {},
   "outputs": [],
   "source": [
    "print(confusion_matrix(y_test,predictions))"
   ]
  },
  {
   "cell_type": "code",
   "execution_count": null,
   "metadata": {},
   "outputs": [],
   "source": [
    "### running the alogrithms on test data.\n",
    "y_hat = rfc.predict(X_test)\n",
    "mae = metrics.mean_absolute_error(y_test,y_hat)\n",
    "mse = metrics.mean_squared_error(y_test,y_hat)\n",
    "print (\"TEST SET\")\n",
    "print (\"========\")\n",
    "print (\"MAE:                \", mae)\n",
    "print (\"RMSE:               \", math.sqrt(mse))\n",
    "print (\"r2:                 \", rfc.score(X_test,y_test))"
   ]
  },
  {
   "cell_type": "code",
   "execution_count": null,
   "metadata": {},
   "outputs": [],
   "source": [
    "### running the alogrithms on test data which is missing the is goal information\n",
    "target_test = test.pop('is_goal')\n",
    "test = test"
   ]
  },
  {
   "cell_type": "code",
   "execution_count": null,
   "metadata": {},
   "outputs": [],
   "source": [
    "test.head()"
   ]
  },
  {
   "cell_type": "code",
   "execution_count": null,
   "metadata": {},
   "outputs": [],
   "source": [
    "print(test.shape)"
   ]
  },
  {
   "cell_type": "code",
   "execution_count": null,
   "metadata": {},
   "outputs": [],
   "source": [
    "y_predict = rfc.predict(test)\n",
    "y_predict"
   ]
  },
  {
   "cell_type": "code",
   "execution_count": null,
   "metadata": {},
   "outputs": [],
   "source": [
    "submission2 = pd.DataFrame({'shot_id_number':test['shot_id_number'],'is_goal':y_predict})\n",
    "submission2 = submission2[['shot_id_number', 'is_goal']]\n",
    "submission2.is_goal.astype(int)\n",
    "submission2.shot_id_number.astype(int)\n",
    "submission2.head()"
   ]
  },
  {
   "cell_type": "code",
   "execution_count": null,
   "metadata": {},
   "outputs": [],
   "source": [
    "#filename = 'ashutosh_tiwari_05031988_2.csv'\n",
    "#submission2.to_csv(filename,index=False)\n",
    "\n",
    "#print('Saved file: ' + filename)"
   ]
  },
  {
   "cell_type": "code",
   "execution_count": null,
   "metadata": {},
   "outputs": [],
   "source": []
  },
  {
   "cell_type": "code",
   "execution_count": null,
   "metadata": {},
   "outputs": [],
   "source": []
  },
  {
   "cell_type": "code",
   "execution_count": null,
   "metadata": {},
   "outputs": [],
   "source": []
  },
  {
   "cell_type": "code",
   "execution_count": null,
   "metadata": {},
   "outputs": [],
   "source": [
    "from sklearn.model_selection import StratifiedKFold\n",
    "import xgboost as xgb\n",
    "\n",
    "kfold = 5\n",
    "skf = StratifiedKFold(n_splits=kfold, random_state=42)"
   ]
  },
  {
   "cell_type": "code",
   "execution_count": null,
   "metadata": {},
   "outputs": [],
   "source": [
    "params = {\n",
    "    'min_child_weight': 10.0,\n",
    "    'objective': 'binary:logistic',\n",
    "    'max_depth': 7,\n",
    "    'max_delta_step': 1.8,\n",
    "    'colsample_bytree': 0.4,\n",
    "    'subsample': 0.8,\n",
    "    'eta': 0.025,\n",
    "    'gamma': 0.65,\n",
    "    'num_boost_round' : 700\n",
    "    }"
   ]
  },
  {
   "cell_type": "code",
   "execution_count": null,
   "metadata": {},
   "outputs": [],
   "source": [
    "X = data.drop(['shot_id_number', 'is_goal'], axis=1).values\n",
    "y = data.is_goal.values\n",
    "test_id = test.shot_id_number.values\n",
    "test2 = test.drop('shot_id_number', axis=1)"
   ]
  },
  {
   "cell_type": "code",
   "execution_count": null,
   "metadata": {},
   "outputs": [],
   "source": [
    "sub = pd.DataFrame()\n",
    "sub['shot_id_number'] = test_id\n",
    "sub['is_goal'] = np.zeros_like(test_id)"
   ]
  },
  {
   "cell_type": "code",
   "execution_count": null,
   "metadata": {},
   "outputs": [],
   "source": [
    "#sub.to_csv('ashutosh_tiwari_05031988_3.csv', index=False)\n"
   ]
  },
  {
   "cell_type": "code",
   "execution_count": null,
   "metadata": {},
   "outputs": [],
   "source": [
    "# Fit the grid search to the data\n",
    "model = xgboost.XGBClassifier()\n",
    "kfold = StratifiedKFold(n_splits=10, random_state=7)\n",
    "results = cross_val_score(model, X_train, y_train, cv=kfold)\n",
    "print(\"Accuracy: %.2f%% (%.2f%%)\" % (results.mean()*100, results.std()*100))"
   ]
  },
  {
   "cell_type": "code",
   "execution_count": null,
   "metadata": {},
   "outputs": [],
   "source": [
    "op=pd.DataFrame(data={'shot_id_number':test['shot_id_number'],'is_goal':model.predict(test)})\n",
    "op = op[['shot_id_number', 'is_goal']]\n",
    "op.to_csv('ashutosh_tiwari_05031988_3.csv',index=False)"
   ]
  },
  {
   "cell_type": "code",
   "execution_count": null,
   "metadata": {},
   "outputs": [],
   "source": []
  },
  {
   "cell_type": "code",
   "execution_count": null,
   "metadata": {},
   "outputs": [],
   "source": []
  }
 ],
 "metadata": {
  "kernelspec": {
   "display_name": "Python 3",
   "language": "python",
   "name": "python3"
  },
  "language_info": {
   "codemirror_mode": {
    "name": "ipython",
    "version": 3
   },
   "file_extension": ".py",
   "mimetype": "text/x-python",
   "name": "python",
   "nbconvert_exporter": "python",
   "pygments_lexer": "ipython3",
   "version": "3.5.6"
  }
 },
 "nbformat": 4,
 "nbformat_minor": 2
}
